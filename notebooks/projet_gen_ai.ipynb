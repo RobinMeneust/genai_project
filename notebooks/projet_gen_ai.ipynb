{
 "cells": [
  {
   "cell_type": "code",
   "execution_count": 4,
   "metadata": {},
   "outputs": [],
   "source": [
    "!pip install -q -U google-genai\n"
   ]
  },
  {
   "cell_type": "code",
   "execution_count": 1,
   "metadata": {},
   "outputs": [
    {
     "name": "stdout",
     "output_type": "stream",
     "text": [
      "Patch appliqué pour forcer l'utilisation d'IPv4.\n"
     ]
    }
   ],
   "source": [
    "import socket\n",
    "import requests.packages.urllib3.util.connection as urllib3_cn\n",
    "\n",
    "# Garder une référence à la fonction originale\n",
    "_original_getaddrinfo = socket.getaddrinfo\n",
    "\n",
    "def patched_getaddrinfo(*args, **kwargs):\n",
    "    \"\"\"Force la résolution d'adresses en IPv4.\"\"\"\n",
    "    responses = _original_getaddrinfo(*args, **kwargs)\n",
    "    # Filtrer pour ne garder que les adresses IPv4 (socket.AF_INET)\n",
    "    return [res for res in responses if res[0] == socket.AF_INET]\n",
    "\n",
    "# Appliquer le patch globalement pour la résolution DNS via socket\n",
    "socket.getaddrinfo = patched_getaddrinfo\n",
    "\n",
    "# Appliquer aussi le patch pour urllib3 (utilisé par certaines bibliothèques http)\n",
    "# Cela peut aider si d'autres appels HTTP indirects sont faits, bien que\n",
    "# le problème principal ici soit gRPC.\n",
    "urllib3_cn.allowed_gai_family = lambda: socket.AF_INET\n",
    "\n",
    "print(\"Patch appliqué pour forcer l'utilisation d'IPv4.\")"
   ]
  },
  {
   "cell_type": "code",
   "execution_count": 2,
   "metadata": {},
   "outputs": [],
   "source": [
    "import pathlib\n",
    "import textwrap\n",
    "\n",
    "import google.generativeai as genai\n",
    "\n",
    "from IPython.display import display\n",
    "from IPython.display import Markdown\n",
    "\n",
    "def to_markdown(text):\n",
    "  text = text.replace('•', '  *')\n",
    "  return Markdown(textwrap.indent(text, '> ', predicate=lambda _: True))"
   ]
  },
  {
   "cell_type": "code",
   "execution_count": 3,
   "metadata": {},
   "outputs": [
    {
     "name": "stdout",
     "output_type": "stream",
     "text": [
      "Clé API chargée avec succès via le fichier .env.\n",
      "Clé API : AIza...\n",
      "Configuration de GenAI réussie.\n"
     ]
    }
   ],
   "source": [
    "import os\n",
    "from dotenv import load_dotenv\n",
    "\n",
    "# Charger les variables depuis le fichier .env dans l'environnement du processus Python actuel\n",
    "load_dotenv()\n",
    "\n",
    "# Maintenant, essayez de lire la variable d'environnement\n",
    "GOOGLE_API_KEY = os.getenv('GOOGLE_API_KEY')\n",
    "\n",
    "if not GOOGLE_API_KEY:\n",
    "    raise ValueError(\"La variable d'environnement GOOGLE_API_KEY n'a pas pu être chargée (vérifiez le fichier .env).\")\n",
    "else:\n",
    "    print(\"Clé API chargée avec succès via le fichier .env.\")\n",
    "    print(f\"Clé API : {GOOGLE_API_KEY[:4]}...\")\n",
    "    # Configurez genai ici, maintenant que la clé est chargée\n",
    "    try:\n",
    "        import google.generativeai as genai\n",
    "        genai.configure(api_key=GOOGLE_API_KEY)\n",
    "        print(\"Configuration de GenAI réussie.\")\n",
    "    except ImportError:\n",
    "        print(\"Erreur: Le module google.generativeai n'est pas installé ou importé.\")\n",
    "    except Exception as e:\n",
    "        print(f\"Erreur lors de la configuration de genai : {e}\")"
   ]
  },
  {
   "cell_type": "code",
   "execution_count": 5,
   "metadata": {},
   "outputs": [
    {
     "name": "stdout",
     "output_type": "stream",
     "text": [
      "models/gemini-1.0-pro-vision-latest\n",
      "models/gemini-pro-vision\n",
      "models/gemini-1.5-pro-latest\n",
      "models/gemini-1.5-pro-001\n",
      "models/gemini-1.5-pro-002\n",
      "models/gemini-1.5-pro\n",
      "models/gemini-1.5-flash-latest\n",
      "models/gemini-1.5-flash-001\n",
      "models/gemini-1.5-flash-001-tuning\n",
      "models/gemini-1.5-flash\n",
      "models/gemini-1.5-flash-002\n",
      "models/gemini-1.5-flash-8b\n",
      "models/gemini-1.5-flash-8b-001\n",
      "models/gemini-1.5-flash-8b-latest\n",
      "models/gemini-1.5-flash-8b-exp-0827\n",
      "models/gemini-1.5-flash-8b-exp-0924\n",
      "models/gemini-2.5-pro-exp-03-25\n",
      "models/gemini-2.0-flash-exp\n",
      "models/gemini-2.0-flash\n",
      "models/gemini-2.0-flash-001\n",
      "models/gemini-2.0-flash-exp-image-generation\n",
      "models/gemini-2.0-flash-lite-001\n",
      "models/gemini-2.0-flash-lite\n",
      "models/gemini-2.0-flash-lite-preview-02-05\n",
      "models/gemini-2.0-flash-lite-preview\n",
      "models/gemini-2.0-pro-exp\n",
      "models/gemini-2.0-pro-exp-02-05\n",
      "models/gemini-exp-1206\n",
      "models/gemini-2.0-flash-thinking-exp-01-21\n",
      "models/gemini-2.0-flash-thinking-exp\n",
      "models/gemini-2.0-flash-thinking-exp-1219\n",
      "models/learnlm-1.5-pro-experimental\n",
      "models/gemma-3-4b-it\n",
      "models/gemma-3-12b-it\n",
      "models/gemma-3-27b-it\n"
     ]
    }
   ],
   "source": [
    "for m in genai.list_models():\n",
    "  if 'generateContent' in m.supported_generation_methods:\n",
    "    print(m.name)"
   ]
  },
  {
   "cell_type": "code",
   "execution_count": 6,
   "metadata": {},
   "outputs": [],
   "source": [
    "model = genai.GenerativeModel('models/gemini-2.5-pro-exp-03-25')"
   ]
  },
  {
   "cell_type": "code",
   "execution_count": 7,
   "metadata": {},
   "outputs": [],
   "source": [
    "\n",
    "response = model.generate_content(\"What is the meaning of life?\")"
   ]
  },
  {
   "cell_type": "code",
   "execution_count": 8,
   "metadata": {},
   "outputs": [
    {
     "data": {
      "text/markdown": [
       "> That's arguably *the* fundamental question humans have pondered across cultures and millennia! There's **no single, universally agreed-upon answer**, and the meaning of life is often considered subjective and deeply personal.\n",
       "> \n",
       "> However, we can explore the different ways people approach this question:\n",
       "> \n",
       "> **1. Philosophical Perspectives:**\n",
       "> \n",
       "> *   **Nihilism:** Argues that life has no inherent, objective meaning, purpose, or intrinsic value.\n",
       "> *   **Existentialism:** Agrees there's no pre-ordained meaning, but emphasizes that individuals are free and responsible for *creating* their own meaning through their choices and actions. (Think Sartre, Camus).\n",
       "> *   **Hedonism:** Suggests the meaning of life is to maximize pleasure and minimize pain.\n",
       "> *   **Stoicism:** Focuses on living virtuously, in accordance with reason and nature, accepting what we cannot control. Meaning comes from inner resilience and ethical action.\n",
       "> *   **Humanism:** Emphasizes human potential, reason, ethics, and flourishing in this life, often focusing on contributing to the greater good of humanity without recourse to the supernatural.\n",
       "> \n",
       "> **2. Religious & Spiritual Perspectives:**\n",
       "> \n",
       "> *   **Theistic Religions (e.g., Christianity, Islam, Judaism):** Often propose that meaning comes from serving a higher power (God), fulfilling divine commandments, achieving salvation or enlightenment, and living in relationship with the creator and fellow beings.\n",
       "> *   **Eastern Religions (e.g., Buddhism, Hinduism):** May focus on achieving enlightenment, breaking the cycle of rebirth (samsara), understanding one's true nature (Atman/Buddha-nature), living in harmony, and reducing suffering through compassion and detachment.\n",
       "> *   **Spirituality (Broader sense):** Finding meaning through connection to something larger than oneself – nature, the universe, a collective consciousness, or an inner sense of purpose.\n",
       "> \n",
       "> **3. Scientific & Biological Perspectives:**\n",
       "> \n",
       "> *   From a purely biological standpoint, the \"purpose\" of life is survival and reproduction – passing on genetic material.\n",
       "> *   Some scientists and thinkers find meaning in the universe's capacity to develop complexity and consciousness – seeing humans as a way the universe experiences itself.\n",
       "> *   However, science primarily describes *how* life works, not necessarily its subjective *meaning* or ultimate *why*.\n",
       "> \n",
       "> **4. Psychological & Personal Perspectives:**\n",
       "> \n",
       "> *   **Finding Purpose:** Many find meaning through having clear goals, pursuing passions, or dedicating themselves to a cause larger than themselves.\n",
       "> *   **Connection & Relationships:** Love, family, friendship, and community provide profound meaning for many people.\n",
       "> *   **Contribution & Service:** Making a positive impact on others or the world.\n",
       "> *   **Growth & Learning:** Continuously developing oneself, gaining knowledge and wisdom.\n",
       "> *   **Experience & Appreciation:** Finding meaning in the simple act of experiencing life, beauty, joy, and even overcoming challenges.\n",
       "> *   **Legacy:** Creating something lasting or influencing future generations.\n",
       "> *   **Logotherapy (Viktor Frankl):** Argues that the primary human drive is not pleasure, but the discovery and pursuit of what we personally find meaningful, which can be found through work, love, and courage in suffering.\n",
       "> \n",
       "> **In Conclusion:**\n",
       "> \n",
       "> Instead of a single answer, the \"meaning of life\" might be:\n",
       "> \n",
       "> *   **Something you discover:** Through introspection, experience, or faith.\n",
       "> *   **Something you create:** Through your choices, actions, and commitments.\n",
       "> *   **A combination of both.**\n",
       "> *   **Found in the journey itself:** The process of living, learning, connecting, and seeking might be where the meaning lies, rather than a final destination or definition.\n",
       "> \n",
       "> Ultimately, the question \"What is the meaning of *my* life?\" is one that each individual must grapple with and answer for themselves. What gives *your* life meaning and purpose?"
      ],
      "text/plain": [
       "<IPython.core.display.Markdown object>"
      ]
     },
     "execution_count": 8,
     "metadata": {},
     "output_type": "execute_result"
    }
   ],
   "source": [
    "to_markdown(response.text)"
   ]
  }
 ],
 "metadata": {
  "kernelspec": {
   "display_name": "base",
   "language": "python",
   "name": "python3"
  },
  "language_info": {
   "codemirror_mode": {
    "name": "ipython",
    "version": 3
   },
   "file_extension": ".py",
   "mimetype": "text/x-python",
   "name": "python",
   "nbconvert_exporter": "python",
   "pygments_lexer": "ipython3",
   "version": "3.12.2"
  }
 },
 "nbformat": 4,
 "nbformat_minor": 2
}
