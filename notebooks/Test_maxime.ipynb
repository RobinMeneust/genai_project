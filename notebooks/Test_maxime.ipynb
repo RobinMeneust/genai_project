{
  "cells": [
    {
      "cell_type": "code",
      "execution_count": 2,
      "metadata": {
        "id": "rv9Sgs0b1bkR"
      },
      "outputs": [],
      "source": [
        "import torch\n",
        "import torch.nn as nn\n",
        "import torch.optim as optim\n",
        "\n",
        "import random\n",
        "from diffusers import StableDiffusionPipeline"
      ]
    },
    {
      "cell_type": "markdown",
      "metadata": {
        "id": "D9Iz3YVs1iyN"
      },
      "source": [
        "# Load Stable Diffusion model pretrained\n"
      ]
    },
    {
      "cell_type": "code",
      "execution_count": 3,
      "metadata": {},
      "outputs": [],
      "source": [
        "# Après le chargement des modèles, si vous utilisez PyTorch 2.0+\n"
      ]
    },
    {
      "cell_type": "code",
      "execution_count": 4,
      "metadata": {},
      "outputs": [
        {
          "name": "stdout",
          "output_type": "stream",
          "text": [
            "VRAM utilisée: 0.00 Go\n"
          ]
        }
      ],
      "source": [
        "# Ajouter cette fonction pour l'utiliser à des moments clés\n",
        "def free_memory():\n",
        "    import gc\n",
        "    gc.collect()\n",
        "    torch.cuda.empty_cache()\n",
        "    if torch.cuda.is_available():\n",
        "        print(f\"VRAM utilisée: {torch.cuda.memory_allocated()/1e9:.2f} Go\")\n",
        "\n",
        "# Utiliser à la fin de chaque étape majeure\n",
        "free_memory()"
      ]
    },
    {
      "cell_type": "code",
      "execution_count": 5,
      "metadata": {
        "colab": {
          "base_uri": "https://localhost:8080/",
          "height": 49,
          "referenced_widgets": [
            "9e7f74b55ff14e0db1dcda0e007e8205",
            "056735f65e69474c9832e51b005dfcb1",
            "c2b614e901ec43cfb7281e3b316f8406",
            "0bd1f87526b640adbba389472b6084cd",
            "5708c7ed5b01442dbae77baae29a5079",
            "52ccaa8e2ea74282a58859f0c1067b93",
            "cd0b278465d946929b15ed54e33d4eb3",
            "65b175bebe974478aa330ee4bb4edf65",
            "d4a15e096f1246e0805b8ba97aa3e569",
            "18a32615d65b410997d83f4a61404e7d",
            "560353383876479c9aca823d1c8c3eab"
          ]
        },
        "collapsed": true,
        "id": "my2Lf7mZ1h1c",
        "outputId": "dfd865ca-5672-4070-9616-18734a455a32"
      },
      "outputs": [
        {
          "data": {
            "application/vnd.jupyter.widget-view+json": {
              "model_id": "7a50e6eea3dd4984b92d31b6e01f6149",
              "version_major": 2,
              "version_minor": 0
            },
            "text/plain": [
              "Loading pipeline components...:   0%|          | 0/7 [00:00<?, ?it/s]"
            ]
          },
          "metadata": {},
          "output_type": "display_data"
        }
      ],
      "source": [
        "model_id = \"stable-diffusion-v1-5/stable-diffusion-v1-5\"\n",
        "pipe = StableDiffusionPipeline.from_pretrained(model_id)"
      ]
    },
    {
      "cell_type": "code",
      "execution_count": 6,
      "metadata": {
        "colab": {
          "base_uri": "https://localhost:8080/"
        },
        "id": "Y_WzA01oAgOn",
        "outputId": "eb71c816-e809-446b-f1dc-2eeccf974ac0"
      },
      "outputs": [
        {
          "name": "stdout",
          "output_type": "stream",
          "text": [
            "StableDiffusionPipeline {\n",
            "  \"_class_name\": \"StableDiffusionPipeline\",\n",
            "  \"_diffusers_version\": \"0.32.2\",\n",
            "  \"_name_or_path\": \"stable-diffusion-v1-5/stable-diffusion-v1-5\",\n",
            "  \"feature_extractor\": [\n",
            "    \"transformers\",\n",
            "    \"CLIPImageProcessor\"\n",
            "  ],\n",
            "  \"image_encoder\": [\n",
            "    null,\n",
            "    null\n",
            "  ],\n",
            "  \"requires_safety_checker\": true,\n",
            "  \"safety_checker\": [\n",
            "    \"stable_diffusion\",\n",
            "    \"StableDiffusionSafetyChecker\"\n",
            "  ],\n",
            "  \"scheduler\": [\n",
            "    \"diffusers\",\n",
            "    \"PNDMScheduler\"\n",
            "  ],\n",
            "  \"text_encoder\": [\n",
            "    \"transformers\",\n",
            "    \"CLIPTextModel\"\n",
            "  ],\n",
            "  \"tokenizer\": [\n",
            "    \"transformers\",\n",
            "    \"CLIPTokenizer\"\n",
            "  ],\n",
            "  \"unet\": [\n",
            "    \"diffusers\",\n",
            "    \"UNet2DConditionModel\"\n",
            "  ],\n",
            "  \"vae\": [\n",
            "    \"diffusers\",\n",
            "    \"AutoencoderKL\"\n",
            "  ]\n",
            "}\n",
            "\n"
          ]
        }
      ],
      "source": [
        "print(pipe)"
      ]
    },
    {
      "cell_type": "code",
      "execution_count": 7,
      "metadata": {
        "id": "0pNNOG-v6WCb"
      },
      "outputs": [],
      "source": [
        "device = torch.device(\"cuda\" if torch.cuda.is_available() else \"cpu\")"
      ]
    },
    {
      "cell_type": "code",
      "execution_count": 8,
      "metadata": {
        "id": "D8TGch7H_tR2"
      },
      "outputs": [],
      "source": [
        "# Modèle de génération d'image\n",
        "diffusion_model = pipe.unet.to(device)\n",
        "\n",
        "# Modèle Tokenizer (tokeniser le text)\n",
        "tokenizer = pipe.tokenizer\n",
        "\n",
        "# Modèle text encoder (créer embedding)\n",
        "text_encoder = pipe.text_encoder.to(device)\n",
        "\n",
        "# L'encodeur/décodeur variationnel (VAE) utilisé pour transformer l'image en un espace latent\n",
        "vae = pipe.vae.to(device)\n",
        "\n",
        "# Le Scheduler (gère les étapes de bruitage/débruitage)\n",
        "scheduler = pipe.scheduler"
      ]
    },
    {
      "cell_type": "code",
      "execution_count": 9,
      "metadata": {
        "colab": {
          "base_uri": "https://localhost:8080/",
          "height": 406
        },
        "id": "j5T-ah342XAU",
        "outputId": "61c9324a-4ac9-4746-fe61-945d85612c13"
      },
      "outputs": [
        {
          "data": {
            "image/png": "[encoded data removed]",
            "text/plain": [
              "<Figure size 640x480 with 1 Axes>"
            ]
          },
          "metadata": {},
          "output_type": "display_data"
        }
      ],
      "source": [
        "# load image in example/car.jpg and plot it\n",
        "\n",
        "from PIL import Image\n",
        "import matplotlib.pyplot as plt\n",
        "import numpy as np\n",
        "import torchvision.transforms as transforms\n",
        "\n",
        "image_path = \"Voiture_Genia.png\"\n",
        "image = Image.open(image_path).convert(\"RGB\")\n",
        "image = image.resize((128, 128))\n",
        "\n",
        "plt.imshow(image)\n",
        "plt.axis(\"off\")\n",
        "plt.show()\n",
        "\n",
        "image = transforms.ToTensor()(image).unsqueeze(0)  # Add batch dimension\n",
        "image = image.to(diffusion_model.device)"
      ]
    },
    {
      "cell_type": "markdown",
      "metadata": {
        "id": "5bCfG7GECl21"
      },
      "source": [
        "# Etape 1 : Find eopt\n"
      ]
    },
    {
      "cell_type": "code",
      "execution_count": 10,
      "metadata": {
        "id": "er4Uwc8cct1u"
      },
      "outputs": [],
      "source": [
        "prompt = \"A yellow car\"\n",
        "device = \"cuda\"\n",
        "\n",
        "timesteps = 1\n",
        "alpha_t = 0.5"
      ]
    },
    {
      "cell_type": "code",
      "execution_count": 11,
      "metadata": {
        "id": "y5Rth5WICxOm"
      },
      "outputs": [
        {
          "name": "stdout",
          "output_type": "stream",
          "text": [
            "VRAM utilisée: 4.29 Go\n",
            "step  0\n",
            "step  1\n",
            "step  2\n",
            "step  3\n",
            "step  4\n",
            "step  5\n",
            "step  6\n",
            "step  7\n",
            "step  8\n",
            "step  9\n",
            "step  10\n",
            "step  11\n",
            "step  12\n",
            "step  13\n",
            "step  14\n",
            "step  15\n",
            "step  16\n",
            "step  17\n",
            "step  18\n",
            "step  19\n",
            "step  20\n",
            "step  21\n",
            "step  22\n",
            "step  23\n",
            "step  24\n",
            "step  25\n",
            "step  26\n",
            "step  27\n",
            "step  28\n",
            "step  29\n",
            "step  30\n",
            "step  31\n",
            "step  32\n",
            "step  33\n",
            "step  34\n",
            "step  35\n",
            "step  36\n",
            "step  37\n",
            "step  38\n",
            "step  39\n",
            "step  40\n",
            "step  41\n",
            "step  42\n",
            "step  43\n",
            "step  44\n",
            "step  45\n",
            "step  46\n",
            "step  47\n",
            "step  48\n",
            "step  49\n",
            "step  50\n",
            "step  51\n",
            "step  52\n",
            "step  53\n",
            "step  54\n",
            "step  55\n",
            "step  56\n",
            "step  57\n",
            "step  58\n",
            "step  59\n",
            "step  60\n",
            "step  61\n",
            "step  62\n",
            "step  63\n",
            "step  64\n",
            "step  65\n",
            "step  66\n",
            "step  67\n",
            "step  68\n",
            "step  69\n",
            "step  70\n",
            "step  71\n",
            "step  72\n",
            "step  73\n",
            "step  74\n",
            "step  75\n",
            "step  76\n",
            "step  77\n",
            "step  78\n",
            "step  79\n",
            "step  80\n",
            "step  81\n",
            "step  82\n",
            "step  83\n",
            "step  84\n",
            "step  85\n",
            "step  86\n",
            "step  87\n",
            "step  88\n",
            "step  89\n",
            "step  90\n",
            "step  91\n",
            "step  92\n",
            "step  93\n",
            "step  94\n",
            "step  95\n",
            "step  96\n",
            "step  97\n",
            "step  98\n",
            "step  99\n"
          ]
        }
      ],
      "source": [
        "# This function is the first step (A) Optimize embedding and find eopt\n",
        "def optimize_embeddings(input_image, target_text, diffusion_model, tokenizer, text_encoder, vae, scheduler, nb_step=1000):\n",
        "\n",
        "  tokens = tokenizer(target_text, padding=\"max_length\", truncation=True, return_tensors=\"pt\")\n",
        "  prompt_tokens = tokens.input_ids.to(device)\n",
        "\n",
        "\n",
        "  # freeze embedding model parameters\n",
        "  with torch.no_grad():\n",
        "      etgt = text_encoder(prompt_tokens).last_hidden_state\n",
        "\n",
        "\n",
        "  # Ici on initialise eopt (l'embedding a optimiser)\n",
        "  eopt = etgt.clone().detach().requires_grad_(True)\n",
        "\n",
        "  optimizer = optim.Adam([eopt], lr=2e-3)\n",
        "  criterion = nn.MSELoss()\n",
        "\n",
        "\n",
        "  # freeze diffusion model parameters\n",
        "  for param in diffusion_model.parameters():\n",
        "      param.requires_grad = False\n",
        "\n",
        "  image = input_image.clone()\n",
        "\n",
        "  # Permet de normaliser l'image (peut-être pas nécessaire)\n",
        "  image_m1_1 = (image.to(device) * 2.0) - 1.0\n",
        "\n",
        "  with torch.no_grad():\n",
        "      image_latent = vae.encode(image_m1_1).latent_dist\n",
        "      image_latent = image_latent.mean * vae.config.scaling_factor\n",
        "      image_latent.to(device)\n",
        "  free_memory()\n",
        "\n",
        "  for i in range(nb_step):\n",
        "      print(\"step \" , i)\n",
        "      noise_latent = torch.randn_like(image_latent)\n",
        "\n",
        "      t = torch.randint(1, 50, size=(1,)).to(device)\n",
        "\n",
        "      # Le scheduler permet d'ajouter du bruit t\n",
        "      image_latent_noise = scheduler.add_noise(image_latent, noise_latent, t)\n",
        "\n",
        "      # .sample permet de récupérer spécifiquement le tensor\n",
        "      output = diffusion_model(image_latent_noise, t, encoder_hidden_states=eopt)\n",
        "      noise_pred = output.sample\n",
        "\n",
        "      noise_latent = scheduler.scale_model_input(noise_latent, t)\n",
        "\n",
        "      # update embeddings\n",
        "      optimizer.zero_grad()\n",
        "      loss = criterion(noise_pred, noise_latent)\n",
        "      loss.backward()\n",
        "      optimizer.step()\n",
        "\n",
        "  return (etgt, eopt)\n",
        "\n",
        "\n",
        "etgt, eopt = optimize_embeddings(image, prompt, diffusion_model, tokenizer, text_encoder, vae, scheduler, nb_step=100)\n",
        "\n"
      ]
    },
    {
      "cell_type": "code",
      "execution_count": 12,
      "metadata": {
        "colab": {
          "base_uri": "https://localhost:8080/"
        },
        "id": "SYqIpSST4m5m",
        "outputId": "38afa75d-16e1-4bc3-b0c6-17102d1b60ee"
      },
      "outputs": [
        {
          "name": "stdout",
          "output_type": "stream",
          "text": [
            "tensor([[[-0.3884,  0.0229, -0.0522,  ..., -0.4899, -0.3066,  0.0675],\n",
            "         [ 0.0290, -1.3258,  0.3085,  ..., -0.5257,  0.9768,  0.6652],\n",
            "         [ 0.9568, -0.3391, -0.3438,  ...,  1.6478, -0.9793,  0.8329],\n",
            "         ...,\n",
            "         [ 0.8534, -0.2147, -0.9066,  ...,  0.0736,  0.3958, -0.4212],\n",
            "         [ 0.8670, -0.2368, -0.8705,  ...,  0.0706,  0.3949, -0.3897],\n",
            "         [ 0.8155, -0.1587, -0.8455,  ...,  0.0757,  0.4136, -0.4125]]],\n",
            "       device='cuda:0')\n"
          ]
        }
      ],
      "source": [
        "print(etgt)"
      ]
    },
    {
      "cell_type": "code",
      "execution_count": 13,
      "metadata": {
        "colab": {
          "base_uri": "https://localhost:8080/"
        },
        "id": "n52gEBOi4knX",
        "outputId": "a71faaa2-c116-40e2-9060-abe08f11513d"
      },
      "outputs": [
        {
          "name": "stdout",
          "output_type": "stream",
          "text": [
            "tensor([[[-0.5581,  0.1944,  0.1113,  ..., -0.3002, -0.2307,  0.1339],\n",
            "         [-0.1305, -1.2809,  0.3443,  ..., -0.4269,  1.0812,  0.6673],\n",
            "         [ 0.7916, -0.2080, -0.2198,  ...,  1.8230, -0.8124,  0.8855],\n",
            "         ...,\n",
            "         [ 0.9750, -0.2645, -0.9755,  ...,  0.1490,  0.5593, -0.2616],\n",
            "         [ 0.9871, -0.2878, -0.9400,  ...,  0.1444,  0.5575, -0.2303],\n",
            "         [ 0.9335, -0.2130, -0.9136,  ...,  0.1562,  0.5780, -0.2526]]],\n",
            "       device='cuda:0', requires_grad=True)\n"
          ]
        }
      ],
      "source": [
        "print(eopt)"
      ]
    },
    {
      "cell_type": "markdown",
      "metadata": {},
      "source": [
        "# Etape 2"
      ]
    },
    {
      "cell_type": "code",
      "execution_count": 14,
      "metadata": {},
      "outputs": [
        {
          "name": "stderr",
          "output_type": "stream",
          "text": [
            "  0%|          | 0/250 [00:00<?, ?it/s]"
          ]
        },
        {
          "name": "stdout",
          "output_type": "stream",
          "text": [
            "step =  0\n"
          ]
        },
        {
          "name": "stderr",
          "output_type": "stream",
          "text": [
            "  1%|          | 2/250 [00:02<05:51,  1.42s/it, Loss=0.272]"
          ]
        },
        {
          "name": "stdout",
          "output_type": "stream",
          "text": [
            "step =  1\n"
          ]
        },
        {
          "name": "stderr",
          "output_type": "stream",
          "text": [
            "  1%|          | 2/250 [00:04<05:51,  1.42s/it, Loss=0.27] "
          ]
        },
        {
          "name": "stdout",
          "output_type": "stream",
          "text": [
            "step =  2\n"
          ]
        },
        {
          "name": "stderr",
          "output_type": "stream",
          "text": [
            "  1%|          | 3/250 [00:06<07:20,  1.78s/it, Loss=0.0648]"
          ]
        },
        {
          "name": "stdout",
          "output_type": "stream",
          "text": [
            "step =  3\n"
          ]
        },
        {
          "name": "stderr",
          "output_type": "stream",
          "text": [
            "  2%|▏         | 4/250 [00:08<07:47,  1.90s/it, Loss=0.156] "
          ]
        },
        {
          "name": "stdout",
          "output_type": "stream",
          "text": [
            "step =  4\n"
          ]
        },
        {
          "name": "stderr",
          "output_type": "stream",
          "text": [
            "  2%|▏         | 5/250 [00:11<08:07,  1.99s/it, Loss=0.199]"
          ]
        },
        {
          "name": "stdout",
          "output_type": "stream",
          "text": [
            "step =  5\n"
          ]
        },
        {
          "name": "stderr",
          "output_type": "stream",
          "text": [
            "  2%|▏         | 6/250 [00:13<08:18,  2.04s/it, Loss=0.0148]"
          ]
        },
        {
          "name": "stdout",
          "output_type": "stream",
          "text": [
            "step =  6\n"
          ]
        },
        {
          "name": "stderr",
          "output_type": "stream",
          "text": [
            "  3%|▎         | 8/250 [00:15<08:26,  2.09s/it, Loss=0.0452]"
          ]
        },
        {
          "name": "stdout",
          "output_type": "stream",
          "text": [
            "step =  7\n"
          ]
        },
        {
          "name": "stderr",
          "output_type": "stream",
          "text": [
            "  4%|▎         | 9/250 [00:17<08:27,  2.11s/it, Loss=0.212] "
          ]
        },
        {
          "name": "stdout",
          "output_type": "stream",
          "text": [
            "step =  8\n"
          ]
        },
        {
          "name": "stderr",
          "output_type": "stream",
          "text": [
            "  4%|▍         | 10/250 [00:19<08:28,  2.12s/it, Loss=0.137]"
          ]
        },
        {
          "name": "stdout",
          "output_type": "stream",
          "text": [
            "step =  9\n"
          ]
        },
        {
          "name": "stderr",
          "output_type": "stream",
          "text": [
            "  4%|▍         | 10/250 [00:21<08:28,  2.12s/it, Loss=0.136]"
          ]
        },
        {
          "name": "stdout",
          "output_type": "stream",
          "text": [
            "step =  10\n"
          ]
        },
        {
          "name": "stderr",
          "output_type": "stream",
          "text": [
            "  5%|▍         | 12/250 [00:24<08:29,  2.14s/it, Loss=0.0281]"
          ]
        },
        {
          "name": "stdout",
          "output_type": "stream",
          "text": [
            "step =  11\n"
          ]
        },
        {
          "name": "stderr",
          "output_type": "stream",
          "text": [
            "  5%|▌         | 13/250 [00:26<08:30,  2.15s/it, Loss=0.00786]"
          ]
        },
        {
          "name": "stdout",
          "output_type": "stream",
          "text": [
            "step =  12\n"
          ]
        },
        {
          "name": "stderr",
          "output_type": "stream",
          "text": [
            "  5%|▌         | 13/250 [00:28<08:30,  2.15s/it, Loss=0.0136] "
          ]
        },
        {
          "name": "stdout",
          "output_type": "stream",
          "text": [
            "step =  13\n"
          ]
        },
        {
          "name": "stderr",
          "output_type": "stream",
          "text": [
            "  6%|▌         | 14/250 [00:30<08:32,  2.17s/it, Loss=0.241] "
          ]
        },
        {
          "name": "stdout",
          "output_type": "stream",
          "text": [
            "step =  14\n"
          ]
        },
        {
          "name": "stderr",
          "output_type": "stream",
          "text": [
            "  6%|▌         | 15/250 [00:32<08:26,  2.15s/it, Loss=0.251]"
          ]
        },
        {
          "name": "stdout",
          "output_type": "stream",
          "text": [
            "step =  15\n"
          ]
        },
        {
          "name": "stderr",
          "output_type": "stream",
          "text": [
            "  7%|▋         | 17/250 [00:34<08:24,  2.16s/it, Loss=0.181]"
          ]
        },
        {
          "name": "stdout",
          "output_type": "stream",
          "text": [
            "step =  16\n"
          ]
        },
        {
          "name": "stderr",
          "output_type": "stream",
          "text": [
            "  7%|▋         | 17/250 [00:36<08:24,  2.16s/it, Loss=0.0108]"
          ]
        },
        {
          "name": "stdout",
          "output_type": "stream",
          "text": [
            "step =  17\n"
          ]
        },
        {
          "name": "stderr",
          "output_type": "stream",
          "text": [
            "  7%|▋         | 18/250 [00:39<08:24,  2.17s/it, Loss=0.424] "
          ]
        },
        {
          "name": "stdout",
          "output_type": "stream",
          "text": [
            "step =  18\n"
          ]
        },
        {
          "name": "stderr",
          "output_type": "stream",
          "text": [
            "  8%|▊         | 19/250 [00:41<08:25,  2.19s/it, Loss=0.0184]"
          ]
        },
        {
          "name": "stdout",
          "output_type": "stream",
          "text": [
            "step =  19\n"
          ]
        },
        {
          "name": "stderr",
          "output_type": "stream",
          "text": [
            "  8%|▊         | 21/250 [00:43<08:12,  2.15s/it, Loss=0.0278]"
          ]
        },
        {
          "name": "stdout",
          "output_type": "stream",
          "text": [
            "step =  20\n"
          ]
        },
        {
          "name": "stderr",
          "output_type": "stream",
          "text": [
            "  9%|▉         | 22/250 [00:45<08:08,  2.14s/it, Loss=0.161] "
          ]
        },
        {
          "name": "stdout",
          "output_type": "stream",
          "text": [
            "step =  21\n"
          ]
        },
        {
          "name": "stderr",
          "output_type": "stream",
          "text": [
            "  9%|▉         | 23/250 [00:47<08:07,  2.15s/it, Loss=0.106]"
          ]
        },
        {
          "name": "stdout",
          "output_type": "stream",
          "text": [
            "step =  22\n"
          ]
        },
        {
          "name": "stderr",
          "output_type": "stream",
          "text": [
            " 10%|▉         | 24/250 [00:50<08:05,  2.15s/it, Loss=0.355]"
          ]
        },
        {
          "name": "stdout",
          "output_type": "stream",
          "text": [
            "step =  23\n"
          ]
        },
        {
          "name": "stderr",
          "output_type": "stream",
          "text": [
            " 10%|█         | 25/250 [00:52<08:03,  2.15s/it, Loss=0.093]"
          ]
        },
        {
          "name": "stdout",
          "output_type": "stream",
          "text": [
            "step =  24\n"
          ]
        },
        {
          "name": "stderr",
          "output_type": "stream",
          "text": [
            " 10%|█         | 25/250 [00:54<08:03,  2.15s/it, Loss=0.0325]"
          ]
        },
        {
          "name": "stdout",
          "output_type": "stream",
          "text": [
            "step =  25\n"
          ]
        },
        {
          "name": "stderr",
          "output_type": "stream",
          "text": [
            " 10%|█         | 26/250 [00:56<08:03,  2.16s/it, Loss=0.18]  "
          ]
        },
        {
          "name": "stdout",
          "output_type": "stream",
          "text": [
            "step =  26\n"
          ]
        },
        {
          "name": "stderr",
          "output_type": "stream",
          "text": [
            " 11%|█         | 28/250 [00:58<07:57,  2.15s/it, Loss=0.0372]"
          ]
        },
        {
          "name": "stdout",
          "output_type": "stream",
          "text": [
            "step =  27\n"
          ]
        },
        {
          "name": "stderr",
          "output_type": "stream",
          "text": [
            " 12%|█▏        | 29/250 [01:00<07:52,  2.14s/it, Loss=0.137] "
          ]
        },
        {
          "name": "stdout",
          "output_type": "stream",
          "text": [
            "step =  28\n"
          ]
        },
        {
          "name": "stderr",
          "output_type": "stream",
          "text": [
            " 12%|█▏        | 30/250 [01:02<07:50,  2.14s/it, Loss=0.0052]"
          ]
        },
        {
          "name": "stdout",
          "output_type": "stream",
          "text": [
            "step =  29\n"
          ]
        },
        {
          "name": "stderr",
          "output_type": "stream",
          "text": [
            " 12%|█▏        | 31/250 [01:05<07:47,  2.13s/it, Loss=0.0654]"
          ]
        },
        {
          "name": "stdout",
          "output_type": "stream",
          "text": [
            "step =  30\n"
          ]
        },
        {
          "name": "stderr",
          "output_type": "stream",
          "text": [
            " 13%|█▎        | 32/250 [01:07<07:43,  2.13s/it, Loss=0.112] "
          ]
        },
        {
          "name": "stdout",
          "output_type": "stream",
          "text": [
            "step =  31\n"
          ]
        },
        {
          "name": "stderr",
          "output_type": "stream",
          "text": [
            " 13%|█▎        | 33/250 [01:09<07:39,  2.12s/it, Loss=0.0288]"
          ]
        },
        {
          "name": "stdout",
          "output_type": "stream",
          "text": [
            "step =  32\n"
          ]
        },
        {
          "name": "stderr",
          "output_type": "stream",
          "text": [
            " 14%|█▎        | 34/250 [01:11<07:39,  2.13s/it, Loss=0.0705]"
          ]
        },
        {
          "name": "stdout",
          "output_type": "stream",
          "text": [
            "step =  33\n"
          ]
        },
        {
          "name": "stderr",
          "output_type": "stream",
          "text": [
            " 14%|█▎        | 34/250 [01:13<07:39,  2.13s/it, Loss=0.0162]"
          ]
        },
        {
          "name": "stdout",
          "output_type": "stream",
          "text": [
            "step =  34\n"
          ]
        },
        {
          "name": "stderr",
          "output_type": "stream",
          "text": [
            " 14%|█▍        | 35/250 [01:15<07:40,  2.14s/it, Loss=0.042] "
          ]
        },
        {
          "name": "stdout",
          "output_type": "stream",
          "text": [
            "step =  35\n"
          ]
        },
        {
          "name": "stderr",
          "output_type": "stream",
          "text": [
            " 15%|█▍        | 37/250 [01:17<07:31,  2.12s/it, Loss=0.0751]"
          ]
        },
        {
          "name": "stdout",
          "output_type": "stream",
          "text": [
            "step =  36\n"
          ]
        },
        {
          "name": "stderr",
          "output_type": "stream",
          "text": [
            " 15%|█▍        | 37/250 [01:19<07:31,  2.12s/it, Loss=0.0456]"
          ]
        },
        {
          "name": "stdout",
          "output_type": "stream",
          "text": [
            "step =  37\n"
          ]
        },
        {
          "name": "stderr",
          "output_type": "stream",
          "text": [
            " 16%|█▌        | 39/250 [01:22<07:28,  2.13s/it, Loss=0.00305]"
          ]
        },
        {
          "name": "stdout",
          "output_type": "stream",
          "text": [
            "step =  38\n"
          ]
        },
        {
          "name": "stderr",
          "output_type": "stream",
          "text": [
            " 16%|█▌        | 40/250 [01:24<07:28,  2.14s/it, Loss=0.373]  "
          ]
        },
        {
          "name": "stdout",
          "output_type": "stream",
          "text": [
            "step =  39\n"
          ]
        },
        {
          "name": "stderr",
          "output_type": "stream",
          "text": [
            " 16%|█▌        | 40/250 [01:26<07:28,  2.14s/it, Loss=0.1]  "
          ]
        },
        {
          "name": "stdout",
          "output_type": "stream",
          "text": [
            "step =  40\n"
          ]
        },
        {
          "name": "stderr",
          "output_type": "stream",
          "text": [
            " 17%|█▋        | 42/250 [01:28<07:24,  2.14s/it, Loss=0.15]"
          ]
        },
        {
          "name": "stdout",
          "output_type": "stream",
          "text": [
            "step =  41\n"
          ]
        },
        {
          "name": "stderr",
          "output_type": "stream",
          "text": [
            " 17%|█▋        | 43/250 [01:30<07:24,  2.15s/it, Loss=0.0241]"
          ]
        },
        {
          "name": "stdout",
          "output_type": "stream",
          "text": [
            "step =  42\n"
          ]
        },
        {
          "name": "stderr",
          "output_type": "stream",
          "text": [
            " 18%|█▊        | 44/250 [01:32<07:22,  2.15s/it, Loss=0.00914]"
          ]
        },
        {
          "name": "stdout",
          "output_type": "stream",
          "text": [
            "step =  43\n"
          ]
        },
        {
          "name": "stderr",
          "output_type": "stream",
          "text": [
            " 18%|█▊        | 44/250 [01:34<07:22,  2.15s/it, Loss=0.00505]"
          ]
        },
        {
          "name": "stdout",
          "output_type": "stream",
          "text": [
            "step =  44\n"
          ]
        },
        {
          "name": "stderr",
          "output_type": "stream",
          "text": [
            " 18%|█▊        | 45/250 [01:36<07:25,  2.17s/it, Loss=0.268]  "
          ]
        },
        {
          "name": "stdout",
          "output_type": "stream",
          "text": [
            "step =  45\n"
          ]
        },
        {
          "name": "stderr",
          "output_type": "stream",
          "text": [
            " 18%|█▊        | 46/250 [01:39<07:19,  2.15s/it, Loss=0.0573]"
          ]
        },
        {
          "name": "stdout",
          "output_type": "stream",
          "text": [
            "step =  46\n"
          ]
        },
        {
          "name": "stderr",
          "output_type": "stream",
          "text": [
            " 19%|█▉        | 48/250 [01:41<07:12,  2.14s/it, Loss=0.0737]"
          ]
        },
        {
          "name": "stdout",
          "output_type": "stream",
          "text": [
            "step =  47\n"
          ]
        },
        {
          "name": "stderr",
          "output_type": "stream",
          "text": [
            " 20%|█▉        | 49/250 [01:43<07:09,  2.14s/it, Loss=0.238] "
          ]
        },
        {
          "name": "stdout",
          "output_type": "stream",
          "text": [
            "step =  48\n"
          ]
        },
        {
          "name": "stderr",
          "output_type": "stream",
          "text": [
            " 20%|█▉        | 49/250 [01:45<07:09,  2.14s/it, Loss=0.0313]"
          ]
        },
        {
          "name": "stdout",
          "output_type": "stream",
          "text": [
            "step =  49\n"
          ]
        },
        {
          "name": "stderr",
          "output_type": "stream",
          "text": [
            " 20%|██        | 50/250 [01:47<07:10,  2.15s/it, Loss=0.1]   "
          ]
        },
        {
          "name": "stdout",
          "output_type": "stream",
          "text": [
            "step =  50\n"
          ]
        },
        {
          "name": "stderr",
          "output_type": "stream",
          "text": [
            " 20%|██        | 51/250 [01:49<07:08,  2.15s/it, Loss=0.0818]"
          ]
        },
        {
          "name": "stdout",
          "output_type": "stream",
          "text": [
            "step =  51\n"
          ]
        },
        {
          "name": "stderr",
          "output_type": "stream",
          "text": [
            " 21%|██        | 52/250 [01:52<07:11,  2.18s/it, Loss=0.0426]"
          ]
        },
        {
          "name": "stdout",
          "output_type": "stream",
          "text": [
            "step =  52\n"
          ]
        },
        {
          "name": "stderr",
          "output_type": "stream",
          "text": [
            " 21%|██        | 53/250 [01:54<07:06,  2.16s/it, Loss=0.153] "
          ]
        },
        {
          "name": "stdout",
          "output_type": "stream",
          "text": [
            "step =  53\n"
          ]
        },
        {
          "name": "stderr",
          "output_type": "stream",
          "text": [
            " 22%|██▏       | 54/250 [01:56<07:01,  2.15s/it, Loss=0.265]"
          ]
        },
        {
          "name": "stdout",
          "output_type": "stream",
          "text": [
            "step =  54\n"
          ]
        },
        {
          "name": "stderr",
          "output_type": "stream",
          "text": [
            " 22%|██▏       | 56/250 [01:58<06:56,  2.15s/it, Loss=0.0251]"
          ]
        },
        {
          "name": "stdout",
          "output_type": "stream",
          "text": [
            "step =  55\n"
          ]
        },
        {
          "name": "stderr",
          "output_type": "stream",
          "text": [
            " 23%|██▎       | 57/250 [02:00<06:52,  2.14s/it, Loss=0.0901]"
          ]
        },
        {
          "name": "stdout",
          "output_type": "stream",
          "text": [
            "step =  56\n"
          ]
        },
        {
          "name": "stderr",
          "output_type": "stream",
          "text": [
            " 23%|██▎       | 58/250 [02:02<06:50,  2.14s/it, Loss=0.0596]"
          ]
        },
        {
          "name": "stdout",
          "output_type": "stream",
          "text": [
            "step =  57\n"
          ]
        },
        {
          "name": "stderr",
          "output_type": "stream",
          "text": [
            " 24%|██▎       | 59/250 [02:05<06:47,  2.13s/it, Loss=0.0425]"
          ]
        },
        {
          "name": "stdout",
          "output_type": "stream",
          "text": [
            "step =  58\n"
          ]
        },
        {
          "name": "stderr",
          "output_type": "stream",
          "text": [
            " 24%|██▎       | 59/250 [02:07<06:47,  2.13s/it, Loss=0.287] "
          ]
        },
        {
          "name": "stdout",
          "output_type": "stream",
          "text": [
            "step =  59\n"
          ]
        },
        {
          "name": "stderr",
          "output_type": "stream",
          "text": [
            " 24%|██▍       | 61/250 [02:09<06:41,  2.13s/it, Loss=0.00906]"
          ]
        },
        {
          "name": "stdout",
          "output_type": "stream",
          "text": [
            "step =  60\n"
          ]
        },
        {
          "name": "stderr",
          "output_type": "stream",
          "text": [
            " 24%|██▍       | 61/250 [02:11<06:41,  2.13s/it, Loss=0.0743] "
          ]
        },
        {
          "name": "stdout",
          "output_type": "stream",
          "text": [
            "step =  61\n"
          ]
        },
        {
          "name": "stderr",
          "output_type": "stream",
          "text": [
            " 25%|██▌       | 63/250 [02:13<06:37,  2.13s/it, Loss=0.273] "
          ]
        },
        {
          "name": "stdout",
          "output_type": "stream",
          "text": [
            "step =  62\n"
          ]
        },
        {
          "name": "stderr",
          "output_type": "stream",
          "text": [
            " 26%|██▌       | 64/250 [02:15<06:35,  2.13s/it, Loss=0.135]"
          ]
        },
        {
          "name": "stdout",
          "output_type": "stream",
          "text": [
            "step =  63\n"
          ]
        },
        {
          "name": "stderr",
          "output_type": "stream",
          "text": [
            " 26%|██▌       | 65/250 [02:17<06:33,  2.13s/it, Loss=0.0181]"
          ]
        },
        {
          "name": "stdout",
          "output_type": "stream",
          "text": [
            "step =  64\n"
          ]
        },
        {
          "name": "stderr",
          "output_type": "stream",
          "text": [
            " 26%|██▋       | 66/250 [02:20<06:32,  2.13s/it, Loss=0.182] "
          ]
        },
        {
          "name": "stdout",
          "output_type": "stream",
          "text": [
            "step =  65\n"
          ]
        },
        {
          "name": "stderr",
          "output_type": "stream",
          "text": [
            " 26%|██▋       | 66/250 [02:21<06:32,  2.13s/it, Loss=0.00413]"
          ]
        },
        {
          "name": "stdout",
          "output_type": "stream",
          "text": [
            "step =  66\n"
          ]
        },
        {
          "name": "stderr",
          "output_type": "stream",
          "text": [
            " 27%|██▋       | 67/250 [02:24<06:32,  2.15s/it, Loss=0.156]  "
          ]
        },
        {
          "name": "stdout",
          "output_type": "stream",
          "text": [
            "step =  67\n"
          ]
        },
        {
          "name": "stderr",
          "output_type": "stream",
          "text": [
            " 28%|██▊       | 69/250 [02:26<06:25,  2.13s/it, Loss=0.00584]"
          ]
        },
        {
          "name": "stdout",
          "output_type": "stream",
          "text": [
            "step =  68\n"
          ]
        },
        {
          "name": "stderr",
          "output_type": "stream",
          "text": [
            " 28%|██▊       | 69/250 [02:28<06:25,  2.13s/it, Loss=0.149]  "
          ]
        },
        {
          "name": "stdout",
          "output_type": "stream",
          "text": [
            "step =  69\n"
          ]
        },
        {
          "name": "stderr",
          "output_type": "stream",
          "text": [
            " 28%|██▊       | 71/250 [02:30<06:19,  2.12s/it, Loss=0.0426]"
          ]
        },
        {
          "name": "stdout",
          "output_type": "stream",
          "text": [
            "step =  70\n"
          ]
        },
        {
          "name": "stderr",
          "output_type": "stream",
          "text": [
            " 29%|██▉       | 72/250 [02:32<06:18,  2.12s/it, Loss=0.0436]"
          ]
        },
        {
          "name": "stdout",
          "output_type": "stream",
          "text": [
            "step =  71\n"
          ]
        },
        {
          "name": "stderr",
          "output_type": "stream",
          "text": [
            " 29%|██▉       | 72/250 [02:34<06:18,  2.12s/it, Loss=0.0042]"
          ]
        },
        {
          "name": "stdout",
          "output_type": "stream",
          "text": [
            "step =  72\n"
          ]
        },
        {
          "name": "stderr",
          "output_type": "stream",
          "text": [
            " 30%|██▉       | 74/250 [02:37<06:14,  2.13s/it, Loss=0.0822]"
          ]
        },
        {
          "name": "stdout",
          "output_type": "stream",
          "text": [
            "step =  73\n"
          ]
        },
        {
          "name": "stderr",
          "output_type": "stream",
          "text": [
            " 30%|███       | 75/250 [02:39<06:11,  2.13s/it, Loss=0.0323]"
          ]
        },
        {
          "name": "stdout",
          "output_type": "stream",
          "text": [
            "step =  74\n"
          ]
        },
        {
          "name": "stderr",
          "output_type": "stream",
          "text": [
            " 30%|███       | 75/250 [02:41<06:11,  2.13s/it, Loss=0.0686]"
          ]
        },
        {
          "name": "stdout",
          "output_type": "stream",
          "text": [
            "step =  75\n"
          ]
        },
        {
          "name": "stderr",
          "output_type": "stream",
          "text": [
            " 30%|███       | 76/250 [02:43<06:13,  2.15s/it, Loss=0.061] "
          ]
        },
        {
          "name": "stdout",
          "output_type": "stream",
          "text": [
            "step =  76\n"
          ]
        },
        {
          "name": "stderr",
          "output_type": "stream",
          "text": [
            " 31%|███       | 78/250 [02:45<06:06,  2.13s/it, Loss=0.174]"
          ]
        },
        {
          "name": "stdout",
          "output_type": "stream",
          "text": [
            "step =  77\n"
          ]
        },
        {
          "name": "stderr",
          "output_type": "stream",
          "text": [
            " 32%|███▏      | 79/250 [02:47<06:04,  2.13s/it, Loss=0.016]"
          ]
        },
        {
          "name": "stdout",
          "output_type": "stream",
          "text": [
            "step =  78\n"
          ]
        },
        {
          "name": "stderr",
          "output_type": "stream",
          "text": [
            " 32%|███▏      | 79/250 [02:49<06:04,  2.13s/it, Loss=0.0664]"
          ]
        },
        {
          "name": "stdout",
          "output_type": "stream",
          "text": [
            "step =  79\n"
          ]
        },
        {
          "name": "stderr",
          "output_type": "stream",
          "text": [
            " 32%|███▏      | 81/250 [02:52<06:00,  2.14s/it, Loss=0.0201]"
          ]
        },
        {
          "name": "stdout",
          "output_type": "stream",
          "text": [
            "step =  80\n"
          ]
        },
        {
          "name": "stderr",
          "output_type": "stream",
          "text": [
            " 32%|███▏      | 81/250 [02:53<06:00,  2.14s/it, Loss=0.00526]"
          ]
        },
        {
          "name": "stdout",
          "output_type": "stream",
          "text": [
            "step =  81\n"
          ]
        },
        {
          "name": "stderr",
          "output_type": "stream",
          "text": [
            " 33%|███▎      | 82/250 [02:56<06:04,  2.17s/it, Loss=0.109]  "
          ]
        },
        {
          "name": "stdout",
          "output_type": "stream",
          "text": [
            "step =  82\n"
          ]
        },
        {
          "name": "stderr",
          "output_type": "stream",
          "text": [
            " 34%|███▎      | 84/250 [02:58<05:56,  2.15s/it, Loss=0.00688]"
          ]
        },
        {
          "name": "stdout",
          "output_type": "stream",
          "text": [
            "step =  83\n"
          ]
        },
        {
          "name": "stderr",
          "output_type": "stream",
          "text": [
            " 34%|███▎      | 84/250 [03:00<05:56,  2.15s/it, Loss=0.0953] "
          ]
        },
        {
          "name": "stdout",
          "output_type": "stream",
          "text": [
            "step =  84\n"
          ]
        },
        {
          "name": "stderr",
          "output_type": "stream",
          "text": [
            " 34%|███▍      | 86/250 [03:02<05:52,  2.15s/it, Loss=0.0603]"
          ]
        },
        {
          "name": "stdout",
          "output_type": "stream",
          "text": [
            "step =  85\n"
          ]
        },
        {
          "name": "stderr",
          "output_type": "stream",
          "text": [
            " 35%|███▍      | 87/250 [03:04<05:50,  2.15s/it, Loss=0.00459]"
          ]
        },
        {
          "name": "stdout",
          "output_type": "stream",
          "text": [
            "step =  86\n"
          ]
        },
        {
          "name": "stderr",
          "output_type": "stream",
          "text": [
            " 35%|███▌      | 88/250 [03:07<05:48,  2.15s/it, Loss=0.0541] "
          ]
        },
        {
          "name": "stdout",
          "output_type": "stream",
          "text": [
            "step =  87\n"
          ]
        },
        {
          "name": "stderr",
          "output_type": "stream",
          "text": [
            " 36%|███▌      | 89/250 [03:09<05:45,  2.14s/it, Loss=0.00193]"
          ]
        },
        {
          "name": "stdout",
          "output_type": "stream",
          "text": [
            "step =  88\n"
          ]
        },
        {
          "name": "stderr",
          "output_type": "stream",
          "text": [
            " 36%|███▌      | 90/250 [03:11<05:40,  2.13s/it, Loss=0.103]  "
          ]
        },
        {
          "name": "stdout",
          "output_type": "stream",
          "text": [
            "step =  89\n"
          ]
        },
        {
          "name": "stderr",
          "output_type": "stream",
          "text": [
            " 36%|███▋      | 91/250 [03:13<05:38,  2.13s/it, Loss=0.0189]"
          ]
        },
        {
          "name": "stdout",
          "output_type": "stream",
          "text": [
            "step =  90\n"
          ]
        },
        {
          "name": "stderr",
          "output_type": "stream",
          "text": [
            " 36%|███▋      | 91/250 [03:15<05:38,  2.13s/it, Loss=0.00172]"
          ]
        },
        {
          "name": "stdout",
          "output_type": "stream",
          "text": [
            "step =  91\n"
          ]
        },
        {
          "name": "stderr",
          "output_type": "stream",
          "text": [
            " 37%|███▋      | 93/250 [03:17<05:33,  2.12s/it, Loss=0.0803] "
          ]
        },
        {
          "name": "stdout",
          "output_type": "stream",
          "text": [
            "step =  92\n"
          ]
        },
        {
          "name": "stderr",
          "output_type": "stream",
          "text": [
            " 37%|███▋      | 93/250 [03:19<05:33,  2.12s/it, Loss=0.00318]"
          ]
        },
        {
          "name": "stdout",
          "output_type": "stream",
          "text": [
            "step =  93\n"
          ]
        },
        {
          "name": "stderr",
          "output_type": "stream",
          "text": [
            " 38%|███▊      | 95/250 [03:22<05:29,  2.13s/it, Loss=0.0377] "
          ]
        },
        {
          "name": "stdout",
          "output_type": "stream",
          "text": [
            "step =  94\n"
          ]
        },
        {
          "name": "stderr",
          "output_type": "stream",
          "text": [
            " 38%|███▊      | 95/250 [03:23<05:29,  2.13s/it, Loss=0.00831]"
          ]
        },
        {
          "name": "stdout",
          "output_type": "stream",
          "text": [
            "step =  95\n"
          ]
        },
        {
          "name": "stderr",
          "output_type": "stream",
          "text": [
            " 39%|███▉      | 97/250 [03:26<05:27,  2.14s/it, Loss=0.0223] "
          ]
        },
        {
          "name": "stdout",
          "output_type": "stream",
          "text": [
            "step =  96\n"
          ]
        },
        {
          "name": "stderr",
          "output_type": "stream",
          "text": [
            " 39%|███▉      | 97/250 [03:28<05:27,  2.14s/it, Loss=0.00432]"
          ]
        },
        {
          "name": "stdout",
          "output_type": "stream",
          "text": [
            "step =  97\n"
          ]
        },
        {
          "name": "stderr",
          "output_type": "stream",
          "text": [
            " 39%|███▉      | 98/250 [03:30<05:29,  2.17s/it, Loss=0.0255] "
          ]
        },
        {
          "name": "stdout",
          "output_type": "stream",
          "text": [
            "step =  98\n"
          ]
        },
        {
          "name": "stderr",
          "output_type": "stream",
          "text": [
            " 40%|████      | 100/250 [03:32<05:22,  2.15s/it, Loss=0.0151]"
          ]
        },
        {
          "name": "stdout",
          "output_type": "stream",
          "text": [
            "step =  99\n"
          ]
        },
        {
          "name": "stderr",
          "output_type": "stream",
          "text": [
            " 40%|████      | 100/250 [03:34<05:22,  2.15s/it, Loss=0.012] "
          ]
        },
        {
          "name": "stdout",
          "output_type": "stream",
          "text": [
            "step =  100\n"
          ]
        },
        {
          "name": "stderr",
          "output_type": "stream",
          "text": [
            " 41%|████      | 102/250 [03:37<05:17,  2.15s/it, Loss=0.0824]"
          ]
        },
        {
          "name": "stdout",
          "output_type": "stream",
          "text": [
            "step =  101\n"
          ]
        },
        {
          "name": "stderr",
          "output_type": "stream",
          "text": [
            " 41%|████      | 102/250 [03:39<05:17,  2.15s/it, Loss=0.388] "
          ]
        },
        {
          "name": "stdout",
          "output_type": "stream",
          "text": [
            "step =  102\n"
          ]
        },
        {
          "name": "stderr",
          "output_type": "stream",
          "text": [
            " 42%|████▏     | 104/250 [03:41<05:13,  2.15s/it, Loss=0.0449]"
          ]
        },
        {
          "name": "stdout",
          "output_type": "stream",
          "text": [
            "step =  103\n"
          ]
        },
        {
          "name": "stderr",
          "output_type": "stream",
          "text": [
            " 42%|████▏     | 104/250 [03:43<05:13,  2.15s/it, Loss=0.0238]"
          ]
        },
        {
          "name": "stdout",
          "output_type": "stream",
          "text": [
            "step =  104\n"
          ]
        },
        {
          "name": "stderr",
          "output_type": "stream",
          "text": [
            " 42%|████▏     | 105/250 [03:45<05:11,  2.15s/it, Loss=0.06]  "
          ]
        },
        {
          "name": "stdout",
          "output_type": "stream",
          "text": [
            "step =  105\n"
          ]
        },
        {
          "name": "stderr",
          "output_type": "stream",
          "text": [
            " 43%|████▎     | 107/250 [03:47<05:06,  2.15s/it, Loss=0.00677]"
          ]
        },
        {
          "name": "stdout",
          "output_type": "stream",
          "text": [
            "step =  106\n"
          ]
        },
        {
          "name": "stderr",
          "output_type": "stream",
          "text": [
            " 43%|████▎     | 107/250 [03:49<05:06,  2.15s/it, Loss=0.442]  "
          ]
        },
        {
          "name": "stdout",
          "output_type": "stream",
          "text": [
            "step =  107\n"
          ]
        },
        {
          "name": "stderr",
          "output_type": "stream",
          "text": [
            " 44%|████▎     | 109/250 [03:52<05:01,  2.14s/it, Loss=0.00597]"
          ]
        },
        {
          "name": "stdout",
          "output_type": "stream",
          "text": [
            "step =  108\n"
          ]
        },
        {
          "name": "stderr",
          "output_type": "stream",
          "text": [
            " 44%|████▎     | 109/250 [03:54<05:01,  2.14s/it, Loss=0.00212]"
          ]
        },
        {
          "name": "stdout",
          "output_type": "stream",
          "text": [
            "step =  109\n"
          ]
        },
        {
          "name": "stderr",
          "output_type": "stream",
          "text": [
            " 44%|████▍     | 111/250 [03:56<04:58,  2.14s/it, Loss=0.0144] "
          ]
        },
        {
          "name": "stdout",
          "output_type": "stream",
          "text": [
            "step =  110\n"
          ]
        },
        {
          "name": "stderr",
          "output_type": "stream",
          "text": [
            " 45%|████▍     | 112/250 [03:58<04:56,  2.15s/it, Loss=0.0321]"
          ]
        },
        {
          "name": "stdout",
          "output_type": "stream",
          "text": [
            "step =  111\n"
          ]
        },
        {
          "name": "stderr",
          "output_type": "stream",
          "text": [
            " 45%|████▌     | 113/250 [04:00<04:52,  2.14s/it, Loss=0.192] "
          ]
        },
        {
          "name": "stdout",
          "output_type": "stream",
          "text": [
            "step =  112\n"
          ]
        },
        {
          "name": "stderr",
          "output_type": "stream",
          "text": [
            " 46%|████▌     | 114/250 [04:02<04:51,  2.15s/it, Loss=0.0154]"
          ]
        },
        {
          "name": "stdout",
          "output_type": "stream",
          "text": [
            "step =  113\n"
          ]
        },
        {
          "name": "stderr",
          "output_type": "stream",
          "text": [
            " 46%|████▌     | 114/250 [04:04<04:51,  2.15s/it, Loss=0.0539]"
          ]
        },
        {
          "name": "stdout",
          "output_type": "stream",
          "text": [
            "step =  114\n"
          ]
        },
        {
          "name": "stderr",
          "output_type": "stream",
          "text": [
            " 46%|████▋     | 116/250 [04:07<04:45,  2.13s/it, Loss=0.034] "
          ]
        },
        {
          "name": "stdout",
          "output_type": "stream",
          "text": [
            "step =  115\n"
          ]
        },
        {
          "name": "stderr",
          "output_type": "stream",
          "text": [
            " 47%|████▋     | 117/250 [04:09<04:42,  2.12s/it, Loss=0.00222]"
          ]
        },
        {
          "name": "stdout",
          "output_type": "stream",
          "text": [
            "step =  116\n"
          ]
        },
        {
          "name": "stderr",
          "output_type": "stream",
          "text": [
            " 47%|████▋     | 117/250 [04:11<04:42,  2.12s/it, Loss=0.0109] "
          ]
        },
        {
          "name": "stdout",
          "output_type": "stream",
          "text": [
            "step =  117\n"
          ]
        },
        {
          "name": "stderr",
          "output_type": "stream",
          "text": [
            " 47%|████▋     | 118/250 [04:13<04:41,  2.13s/it, Loss=0.0666]"
          ]
        },
        {
          "name": "stdout",
          "output_type": "stream",
          "text": [
            "step =  118\n"
          ]
        },
        {
          "name": "stderr",
          "output_type": "stream",
          "text": [
            " 48%|████▊     | 120/250 [04:15<04:36,  2.13s/it, Loss=0.00448]"
          ]
        },
        {
          "name": "stdout",
          "output_type": "stream",
          "text": [
            "step =  119\n"
          ]
        },
        {
          "name": "stderr",
          "output_type": "stream",
          "text": [
            " 48%|████▊     | 121/250 [04:17<04:34,  2.13s/it, Loss=0.0207] "
          ]
        },
        {
          "name": "stdout",
          "output_type": "stream",
          "text": [
            "step =  120\n"
          ]
        },
        {
          "name": "stderr",
          "output_type": "stream",
          "text": [
            " 49%|████▉     | 122/250 [04:19<04:33,  2.14s/it, Loss=0.00699]"
          ]
        },
        {
          "name": "stdout",
          "output_type": "stream",
          "text": [
            "step =  121\n"
          ]
        },
        {
          "name": "stderr",
          "output_type": "stream",
          "text": [
            " 49%|████▉     | 123/250 [04:22<04:31,  2.14s/it, Loss=0.115]  "
          ]
        },
        {
          "name": "stdout",
          "output_type": "stream",
          "text": [
            "step =  122\n"
          ]
        },
        {
          "name": "stderr",
          "output_type": "stream",
          "text": [
            " 50%|████▉     | 124/250 [04:24<04:29,  2.14s/it, Loss=0.0236]"
          ]
        },
        {
          "name": "stdout",
          "output_type": "stream",
          "text": [
            "step =  123\n"
          ]
        },
        {
          "name": "stderr",
          "output_type": "stream",
          "text": [
            " 50%|████▉     | 124/250 [04:26<04:29,  2.14s/it, Loss=0.195] "
          ]
        },
        {
          "name": "stdout",
          "output_type": "stream",
          "text": [
            "step =  124\n"
          ]
        },
        {
          "name": "stderr",
          "output_type": "stream",
          "text": [
            " 50%|█████     | 126/250 [04:28<04:25,  2.14s/it, Loss=0.359]"
          ]
        },
        {
          "name": "stdout",
          "output_type": "stream",
          "text": [
            "step =  125\n"
          ]
        },
        {
          "name": "stderr",
          "output_type": "stream",
          "text": [
            " 50%|█████     | 126/250 [04:30<04:25,  2.14s/it, Loss=0.0213]"
          ]
        },
        {
          "name": "stdout",
          "output_type": "stream",
          "text": [
            "step =  126\n"
          ]
        },
        {
          "name": "stderr",
          "output_type": "stream",
          "text": [
            " 51%|█████     | 128/250 [04:32<04:20,  2.14s/it, Loss=0.0583]"
          ]
        },
        {
          "name": "stdout",
          "output_type": "stream",
          "text": [
            "step =  127\n"
          ]
        },
        {
          "name": "stderr",
          "output_type": "stream",
          "text": [
            " 51%|█████     | 128/250 [04:34<04:20,  2.14s/it, Loss=0.0251]"
          ]
        },
        {
          "name": "stdout",
          "output_type": "stream",
          "text": [
            "step =  128\n"
          ]
        },
        {
          "name": "stderr",
          "output_type": "stream",
          "text": [
            " 52%|█████▏    | 129/250 [04:36<04:19,  2.15s/it, Loss=0.00518]"
          ]
        },
        {
          "name": "stdout",
          "output_type": "stream",
          "text": [
            "step =  129\n"
          ]
        },
        {
          "name": "stderr",
          "output_type": "stream",
          "text": [
            " 52%|█████▏    | 130/250 [04:39<04:20,  2.17s/it, Loss=0.00335]"
          ]
        },
        {
          "name": "stdout",
          "output_type": "stream",
          "text": [
            "step =  130\n"
          ]
        },
        {
          "name": "stderr",
          "output_type": "stream",
          "text": [
            " 53%|█████▎    | 132/250 [04:41<04:13,  2.15s/it, Loss=0.0455] "
          ]
        },
        {
          "name": "stdout",
          "output_type": "stream",
          "text": [
            "step =  131\n"
          ]
        },
        {
          "name": "stderr",
          "output_type": "stream",
          "text": [
            " 53%|█████▎    | 132/250 [04:43<04:13,  2.15s/it, Loss=0.00267]"
          ]
        },
        {
          "name": "stdout",
          "output_type": "stream",
          "text": [
            "step =  132\n"
          ]
        },
        {
          "name": "stderr",
          "output_type": "stream",
          "text": [
            " 54%|█████▎    | 134/250 [04:45<04:10,  2.16s/it, Loss=0.015]  "
          ]
        },
        {
          "name": "stdout",
          "output_type": "stream",
          "text": [
            "step =  133\n"
          ]
        },
        {
          "name": "stderr",
          "output_type": "stream",
          "text": [
            " 54%|█████▍    | 135/250 [04:47<04:09,  2.17s/it, Loss=0.00506]"
          ]
        },
        {
          "name": "stdout",
          "output_type": "stream",
          "text": [
            "step =  134\n"
          ]
        },
        {
          "name": "stderr",
          "output_type": "stream",
          "text": [
            " 54%|█████▍    | 136/250 [04:50<04:07,  2.17s/it, Loss=0.0254] "
          ]
        },
        {
          "name": "stdout",
          "output_type": "stream",
          "text": [
            "step =  135\n"
          ]
        },
        {
          "name": "stderr",
          "output_type": "stream",
          "text": [
            " 54%|█████▍    | 136/250 [04:52<04:07,  2.17s/it, Loss=0.0068]"
          ]
        },
        {
          "name": "stdout",
          "output_type": "stream",
          "text": [
            "step =  136\n"
          ]
        },
        {
          "name": "stderr",
          "output_type": "stream",
          "text": [
            " 55%|█████▍    | 137/250 [04:54<04:06,  2.18s/it, Loss=0.0123]"
          ]
        },
        {
          "name": "stdout",
          "output_type": "stream",
          "text": [
            "step =  137\n"
          ]
        },
        {
          "name": "stderr",
          "output_type": "stream",
          "text": [
            " 56%|█████▌    | 139/250 [04:56<04:00,  2.16s/it, Loss=0.134] "
          ]
        },
        {
          "name": "stdout",
          "output_type": "stream",
          "text": [
            "step =  138\n"
          ]
        },
        {
          "name": "stderr",
          "output_type": "stream",
          "text": [
            " 56%|█████▌    | 140/250 [04:58<03:56,  2.15s/it, Loss=0.0234]"
          ]
        },
        {
          "name": "stdout",
          "output_type": "stream",
          "text": [
            "step =  139\n"
          ]
        },
        {
          "name": "stderr",
          "output_type": "stream",
          "text": [
            " 56%|█████▋    | 141/250 [05:00<03:53,  2.14s/it, Loss=0.00913]"
          ]
        },
        {
          "name": "stdout",
          "output_type": "stream",
          "text": [
            "step =  140\n"
          ]
        },
        {
          "name": "stderr",
          "output_type": "stream",
          "text": [
            " 57%|█████▋    | 142/250 [05:03<03:51,  2.14s/it, Loss=0.00696]"
          ]
        },
        {
          "name": "stdout",
          "output_type": "stream",
          "text": [
            "step =  141\n"
          ]
        },
        {
          "name": "stderr",
          "output_type": "stream",
          "text": [
            " 57%|█████▋    | 143/250 [05:05<03:48,  2.13s/it, Loss=0.00824]"
          ]
        },
        {
          "name": "stdout",
          "output_type": "stream",
          "text": [
            "step =  142\n"
          ]
        },
        {
          "name": "stderr",
          "output_type": "stream",
          "text": [
            " 58%|█████▊    | 144/250 [05:07<03:45,  2.12s/it, Loss=0.0692] "
          ]
        },
        {
          "name": "stdout",
          "output_type": "stream",
          "text": [
            "step =  143\n"
          ]
        },
        {
          "name": "stderr",
          "output_type": "stream",
          "text": [
            " 58%|█████▊    | 145/250 [05:09<03:42,  2.12s/it, Loss=0.00661]"
          ]
        },
        {
          "name": "stdout",
          "output_type": "stream",
          "text": [
            "step =  144\n"
          ]
        },
        {
          "name": "stderr",
          "output_type": "stream",
          "text": [
            " 58%|█████▊    | 145/250 [05:11<03:42,  2.12s/it, Loss=0.0116] "
          ]
        },
        {
          "name": "stdout",
          "output_type": "stream",
          "text": [
            "step =  145\n"
          ]
        },
        {
          "name": "stderr",
          "output_type": "stream",
          "text": [
            " 58%|█████▊    | 146/250 [05:13<03:42,  2.14s/it, Loss=0.154] "
          ]
        },
        {
          "name": "stdout",
          "output_type": "stream",
          "text": [
            "step =  146\n"
          ]
        },
        {
          "name": "stderr",
          "output_type": "stream",
          "text": [
            " 59%|█████▉    | 148/250 [05:15<03:36,  2.13s/it, Loss=0.00517]"
          ]
        },
        {
          "name": "stdout",
          "output_type": "stream",
          "text": [
            "step =  147\n"
          ]
        },
        {
          "name": "stderr",
          "output_type": "stream",
          "text": [
            " 60%|█████▉    | 149/250 [05:17<03:33,  2.12s/it, Loss=0.00378]"
          ]
        },
        {
          "name": "stdout",
          "output_type": "stream",
          "text": [
            "step =  148\n"
          ]
        },
        {
          "name": "stderr",
          "output_type": "stream",
          "text": [
            " 60%|█████▉    | 149/250 [05:19<03:33,  2.12s/it, Loss=0.00943]"
          ]
        },
        {
          "name": "stdout",
          "output_type": "stream",
          "text": [
            "step =  149\n"
          ]
        },
        {
          "name": "stderr",
          "output_type": "stream",
          "text": [
            " 60%|██████    | 151/250 [05:22<03:30,  2.13s/it, Loss=0.0141] "
          ]
        },
        {
          "name": "stdout",
          "output_type": "stream",
          "text": [
            "step =  150\n"
          ]
        },
        {
          "name": "stderr",
          "output_type": "stream",
          "text": [
            " 60%|██████    | 151/250 [05:24<03:30,  2.13s/it, Loss=0.00429]"
          ]
        },
        {
          "name": "stdout",
          "output_type": "stream",
          "text": [
            "step =  151\n"
          ]
        },
        {
          "name": "stderr",
          "output_type": "stream",
          "text": [
            " 61%|██████    | 152/250 [05:26<03:28,  2.13s/it, Loss=0.00684]"
          ]
        },
        {
          "name": "stdout",
          "output_type": "stream",
          "text": [
            "step =  152\n"
          ]
        },
        {
          "name": "stderr",
          "output_type": "stream",
          "text": [
            " 62%|██████▏   | 154/250 [05:28<03:24,  2.13s/it, Loss=0.00231]"
          ]
        },
        {
          "name": "stdout",
          "output_type": "stream",
          "text": [
            "step =  153\n"
          ]
        },
        {
          "name": "stderr",
          "output_type": "stream",
          "text": [
            " 62%|██████▏   | 155/250 [05:30<03:22,  2.13s/it, Loss=0.0114] "
          ]
        },
        {
          "name": "stdout",
          "output_type": "stream",
          "text": [
            "step =  154\n"
          ]
        },
        {
          "name": "stderr",
          "output_type": "stream",
          "text": [
            " 62%|██████▏   | 155/250 [05:32<03:22,  2.13s/it, Loss=0.00186]"
          ]
        },
        {
          "name": "stdout",
          "output_type": "stream",
          "text": [
            "step =  155\n"
          ]
        },
        {
          "name": "stderr",
          "output_type": "stream",
          "text": [
            " 63%|██████▎   | 157/250 [05:34<03:18,  2.13s/it, Loss=0.0196] "
          ]
        },
        {
          "name": "stdout",
          "output_type": "stream",
          "text": [
            "step =  156\n"
          ]
        },
        {
          "name": "stderr",
          "output_type": "stream",
          "text": [
            " 63%|██████▎   | 158/250 [05:37<03:16,  2.14s/it, Loss=0.038] "
          ]
        },
        {
          "name": "stdout",
          "output_type": "stream",
          "text": [
            "step =  157\n"
          ]
        },
        {
          "name": "stderr",
          "output_type": "stream",
          "text": [
            " 63%|██████▎   | 158/250 [05:39<03:16,  2.14s/it, Loss=0.0123]"
          ]
        },
        {
          "name": "stdout",
          "output_type": "stream",
          "text": [
            "step =  158\n"
          ]
        },
        {
          "name": "stderr",
          "output_type": "stream",
          "text": [
            " 64%|██████▍   | 160/250 [05:41<03:12,  2.13s/it, Loss=0.0178]"
          ]
        },
        {
          "name": "stdout",
          "output_type": "stream",
          "text": [
            "step =  159\n"
          ]
        },
        {
          "name": "stderr",
          "output_type": "stream",
          "text": [
            " 64%|██████▍   | 160/250 [05:43<03:12,  2.13s/it, Loss=0.00674]"
          ]
        },
        {
          "name": "stdout",
          "output_type": "stream",
          "text": [
            "step =  160\n"
          ]
        },
        {
          "name": "stderr",
          "output_type": "stream",
          "text": [
            " 64%|██████▍   | 161/250 [05:45<03:11,  2.15s/it, Loss=0.143]  "
          ]
        },
        {
          "name": "stdout",
          "output_type": "stream",
          "text": [
            "step =  161\n"
          ]
        },
        {
          "name": "stderr",
          "output_type": "stream",
          "text": [
            " 65%|██████▍   | 162/250 [05:47<03:09,  2.16s/it, Loss=0.0775]"
          ]
        },
        {
          "name": "stdout",
          "output_type": "stream",
          "text": [
            "step =  162\n"
          ]
        },
        {
          "name": "stderr",
          "output_type": "stream",
          "text": [
            " 66%|██████▌   | 164/250 [05:49<03:03,  2.13s/it, Loss=0.00468]"
          ]
        },
        {
          "name": "stdout",
          "output_type": "stream",
          "text": [
            "step =  163\n"
          ]
        },
        {
          "name": "stderr",
          "output_type": "stream",
          "text": [
            " 66%|██████▌   | 164/250 [05:51<03:03,  2.13s/it, Loss=0.00412]"
          ]
        },
        {
          "name": "stdout",
          "output_type": "stream",
          "text": [
            "step =  164\n"
          ]
        },
        {
          "name": "stderr",
          "output_type": "stream",
          "text": [
            " 66%|██████▋   | 166/250 [05:54<02:59,  2.14s/it, Loss=0.0162] "
          ]
        },
        {
          "name": "stdout",
          "output_type": "stream",
          "text": [
            "step =  165\n"
          ]
        },
        {
          "name": "stderr",
          "output_type": "stream",
          "text": [
            " 67%|██████▋   | 167/250 [05:56<02:57,  2.14s/it, Loss=0.0035]"
          ]
        },
        {
          "name": "stdout",
          "output_type": "stream",
          "text": [
            "step =  166\n"
          ]
        },
        {
          "name": "stderr",
          "output_type": "stream",
          "text": [
            " 67%|██████▋   | 167/250 [05:58<02:57,  2.14s/it, Loss=0.032] "
          ]
        },
        {
          "name": "stdout",
          "output_type": "stream",
          "text": [
            "step =  167\n"
          ]
        },
        {
          "name": "stderr",
          "output_type": "stream",
          "text": [
            " 67%|██████▋   | 168/250 [06:00<02:56,  2.15s/it, Loss=0.0432]"
          ]
        },
        {
          "name": "stdout",
          "output_type": "stream",
          "text": [
            "step =  168\n"
          ]
        },
        {
          "name": "stderr",
          "output_type": "stream",
          "text": [
            " 68%|██████▊   | 170/250 [06:02<02:50,  2.13s/it, Loss=0.0016]"
          ]
        },
        {
          "name": "stdout",
          "output_type": "stream",
          "text": [
            "step =  169\n"
          ]
        },
        {
          "name": "stderr",
          "output_type": "stream",
          "text": [
            " 68%|██████▊   | 171/250 [06:04<02:48,  2.13s/it, Loss=0.0131]"
          ]
        },
        {
          "name": "stdout",
          "output_type": "stream",
          "text": [
            "step =  170\n"
          ]
        },
        {
          "name": "stderr",
          "output_type": "stream",
          "text": [
            " 69%|██████▉   | 172/250 [06:07<02:45,  2.12s/it, Loss=0.0014]"
          ]
        },
        {
          "name": "stdout",
          "output_type": "stream",
          "text": [
            "step =  171\n"
          ]
        },
        {
          "name": "stderr",
          "output_type": "stream",
          "text": [
            " 69%|██████▉   | 173/250 [06:09<02:43,  2.12s/it, Loss=0.0298]"
          ]
        },
        {
          "name": "stdout",
          "output_type": "stream",
          "text": [
            "step =  172\n"
          ]
        },
        {
          "name": "stderr",
          "output_type": "stream",
          "text": [
            " 70%|██████▉   | 174/250 [06:11<02:41,  2.13s/it, Loss=0.0234]"
          ]
        },
        {
          "name": "stdout",
          "output_type": "stream",
          "text": [
            "step =  173\n"
          ]
        },
        {
          "name": "stderr",
          "output_type": "stream",
          "text": [
            " 70%|███████   | 175/250 [06:13<02:39,  2.13s/it, Loss=0.0423]"
          ]
        },
        {
          "name": "stdout",
          "output_type": "stream",
          "text": [
            "step =  174\n"
          ]
        },
        {
          "name": "stderr",
          "output_type": "stream",
          "text": [
            " 70%|███████   | 176/250 [06:15<02:37,  2.13s/it, Loss=0.015] "
          ]
        },
        {
          "name": "stdout",
          "output_type": "stream",
          "text": [
            "step =  175\n"
          ]
        },
        {
          "name": "stderr",
          "output_type": "stream",
          "text": [
            " 70%|███████   | 176/250 [06:17<02:37,  2.13s/it, Loss=0.0243]"
          ]
        },
        {
          "name": "stdout",
          "output_type": "stream",
          "text": [
            "step =  176\n"
          ]
        },
        {
          "name": "stderr",
          "output_type": "stream",
          "text": [
            " 71%|███████   | 177/250 [06:19<02:35,  2.13s/it, Loss=0.0366]"
          ]
        },
        {
          "name": "stdout",
          "output_type": "stream",
          "text": [
            "step =  177\n"
          ]
        },
        {
          "name": "stderr",
          "output_type": "stream",
          "text": [
            " 72%|███████▏  | 179/250 [06:21<02:31,  2.13s/it, Loss=0.0133]"
          ]
        },
        {
          "name": "stdout",
          "output_type": "stream",
          "text": [
            "step =  178\n"
          ]
        },
        {
          "name": "stderr",
          "output_type": "stream",
          "text": [
            " 72%|███████▏  | 180/250 [06:24<02:29,  2.13s/it, Loss=0.00232]"
          ]
        },
        {
          "name": "stdout",
          "output_type": "stream",
          "text": [
            "step =  179\n"
          ]
        },
        {
          "name": "stderr",
          "output_type": "stream",
          "text": [
            " 72%|███████▏  | 180/250 [06:26<02:29,  2.13s/it, Loss=0.0451] "
          ]
        },
        {
          "name": "stdout",
          "output_type": "stream",
          "text": [
            "step =  180\n"
          ]
        },
        {
          "name": "stderr",
          "output_type": "stream",
          "text": [
            " 73%|███████▎  | 182/250 [06:28<02:25,  2.14s/it, Loss=0.0322]"
          ]
        },
        {
          "name": "stdout",
          "output_type": "stream",
          "text": [
            "step =  181\n"
          ]
        },
        {
          "name": "stderr",
          "output_type": "stream",
          "text": [
            " 73%|███████▎  | 183/250 [06:30<02:24,  2.15s/it, Loss=0.0027]"
          ]
        },
        {
          "name": "stdout",
          "output_type": "stream",
          "text": [
            "step =  182\n"
          ]
        },
        {
          "name": "stderr",
          "output_type": "stream",
          "text": [
            " 73%|███████▎  | 183/250 [06:32<02:24,  2.15s/it, Loss=0.00119]"
          ]
        },
        {
          "name": "stdout",
          "output_type": "stream",
          "text": [
            "step =  183\n"
          ]
        },
        {
          "name": "stderr",
          "output_type": "stream",
          "text": [
            " 74%|███████▍  | 185/250 [06:34<02:18,  2.13s/it, Loss=0.00217]"
          ]
        },
        {
          "name": "stdout",
          "output_type": "stream",
          "text": [
            "step =  184\n"
          ]
        },
        {
          "name": "stderr",
          "output_type": "stream",
          "text": [
            " 74%|███████▍  | 185/250 [06:36<02:18,  2.13s/it, Loss=0.00503]"
          ]
        },
        {
          "name": "stdout",
          "output_type": "stream",
          "text": [
            "step =  185\n"
          ]
        },
        {
          "name": "stderr",
          "output_type": "stream",
          "text": [
            " 75%|███████▍  | 187/250 [06:39<02:15,  2.15s/it, Loss=0.00618]"
          ]
        },
        {
          "name": "stdout",
          "output_type": "stream",
          "text": [
            "step =  186\n"
          ]
        },
        {
          "name": "stderr",
          "output_type": "stream",
          "text": [
            " 75%|███████▌  | 188/250 [06:41<02:12,  2.14s/it, Loss=0.00258]"
          ]
        },
        {
          "name": "stdout",
          "output_type": "stream",
          "text": [
            "step =  187\n"
          ]
        },
        {
          "name": "stderr",
          "output_type": "stream",
          "text": [
            " 75%|███████▌  | 188/250 [06:43<02:12,  2.14s/it, Loss=0.0252] "
          ]
        },
        {
          "name": "stdout",
          "output_type": "stream",
          "text": [
            "step =  188\n"
          ]
        },
        {
          "name": "stderr",
          "output_type": "stream",
          "text": [
            " 76%|███████▌  | 190/250 [06:45<02:08,  2.15s/it, Loss=0.0082]"
          ]
        },
        {
          "name": "stdout",
          "output_type": "stream",
          "text": [
            "step =  189\n"
          ]
        },
        {
          "name": "stderr",
          "output_type": "stream",
          "text": [
            " 76%|███████▋  | 191/250 [06:47<02:06,  2.15s/it, Loss=0.0362]"
          ]
        },
        {
          "name": "stdout",
          "output_type": "stream",
          "text": [
            "step =  190\n"
          ]
        },
        {
          "name": "stderr",
          "output_type": "stream",
          "text": [
            " 77%|███████▋  | 192/250 [06:49<02:04,  2.14s/it, Loss=0.0173]"
          ]
        },
        {
          "name": "stdout",
          "output_type": "stream",
          "text": [
            "step =  191\n"
          ]
        },
        {
          "name": "stderr",
          "output_type": "stream",
          "text": [
            " 77%|███████▋  | 192/250 [06:51<02:04,  2.14s/it, Loss=0.0108]"
          ]
        },
        {
          "name": "stdout",
          "output_type": "stream",
          "text": [
            "step =  192\n"
          ]
        },
        {
          "name": "stderr",
          "output_type": "stream",
          "text": [
            " 77%|███████▋  | 193/250 [06:54<02:02,  2.15s/it, Loss=0.044] "
          ]
        },
        {
          "name": "stdout",
          "output_type": "stream",
          "text": [
            "step =  193\n"
          ]
        },
        {
          "name": "stderr",
          "output_type": "stream",
          "text": [
            " 78%|███████▊  | 194/250 [06:56<02:00,  2.15s/it, Loss=0.0213]"
          ]
        },
        {
          "name": "stdout",
          "output_type": "stream",
          "text": [
            "step =  194\n"
          ]
        },
        {
          "name": "stderr",
          "output_type": "stream",
          "text": [
            " 78%|███████▊  | 195/250 [06:58<01:59,  2.17s/it, Loss=0.127] "
          ]
        },
        {
          "name": "stdout",
          "output_type": "stream",
          "text": [
            "step =  195\n"
          ]
        },
        {
          "name": "stderr",
          "output_type": "stream",
          "text": [
            " 79%|███████▉  | 197/250 [07:00<01:53,  2.15s/it, Loss=0.00246]"
          ]
        },
        {
          "name": "stdout",
          "output_type": "stream",
          "text": [
            "step =  196\n"
          ]
        },
        {
          "name": "stderr",
          "output_type": "stream",
          "text": [
            " 79%|███████▉  | 197/250 [07:02<01:53,  2.15s/it, Loss=0.00981]"
          ]
        },
        {
          "name": "stdout",
          "output_type": "stream",
          "text": [
            "step =  197\n"
          ]
        },
        {
          "name": "stderr",
          "output_type": "stream",
          "text": [
            " 80%|███████▉  | 199/250 [07:04<01:48,  2.14s/it, Loss=0.00151]"
          ]
        },
        {
          "name": "stdout",
          "output_type": "stream",
          "text": [
            "step =  198\n"
          ]
        },
        {
          "name": "stderr",
          "output_type": "stream",
          "text": [
            " 80%|███████▉  | 199/250 [07:06<01:48,  2.14s/it, Loss=0.00528]"
          ]
        },
        {
          "name": "stdout",
          "output_type": "stream",
          "text": [
            "step =  199\n"
          ]
        },
        {
          "name": "stderr",
          "output_type": "stream",
          "text": [
            " 80%|████████  | 201/250 [07:09<01:44,  2.14s/it, Loss=0.0145] "
          ]
        },
        {
          "name": "stdout",
          "output_type": "stream",
          "text": [
            "step =  200\n"
          ]
        },
        {
          "name": "stderr",
          "output_type": "stream",
          "text": [
            " 80%|████████  | 201/250 [07:11<01:44,  2.14s/it, Loss=0.0351]"
          ]
        },
        {
          "name": "stdout",
          "output_type": "stream",
          "text": [
            "step =  201\n"
          ]
        },
        {
          "name": "stderr",
          "output_type": "stream",
          "text": [
            " 81%|████████  | 202/250 [07:13<01:43,  2.16s/it, Loss=0.0285]"
          ]
        },
        {
          "name": "stdout",
          "output_type": "stream",
          "text": [
            "step =  202\n"
          ]
        },
        {
          "name": "stderr",
          "output_type": "stream",
          "text": [
            " 81%|████████  | 203/250 [07:15<01:40,  2.14s/it, Loss=0.00642]"
          ]
        },
        {
          "name": "stdout",
          "output_type": "stream",
          "text": [
            "step =  203\n"
          ]
        },
        {
          "name": "stderr",
          "output_type": "stream",
          "text": [
            " 82%|████████▏ | 205/250 [07:17<01:36,  2.14s/it, Loss=0.00972]"
          ]
        },
        {
          "name": "stdout",
          "output_type": "stream",
          "text": [
            "step =  204\n"
          ]
        },
        {
          "name": "stderr",
          "output_type": "stream",
          "text": [
            " 82%|████████▏ | 206/250 [07:19<01:34,  2.15s/it, Loss=0.00202]"
          ]
        },
        {
          "name": "stdout",
          "output_type": "stream",
          "text": [
            "step =  205\n"
          ]
        },
        {
          "name": "stderr",
          "output_type": "stream",
          "text": [
            " 83%|████████▎ | 207/250 [07:22<01:32,  2.15s/it, Loss=0.0225] "
          ]
        },
        {
          "name": "stdout",
          "output_type": "stream",
          "text": [
            "step =  206\n"
          ]
        },
        {
          "name": "stderr",
          "output_type": "stream",
          "text": [
            " 83%|████████▎ | 207/250 [07:24<01:32,  2.15s/it, Loss=0.194] "
          ]
        },
        {
          "name": "stdout",
          "output_type": "stream",
          "text": [
            "step =  207\n"
          ]
        },
        {
          "name": "stderr",
          "output_type": "stream",
          "text": [
            " 83%|████████▎ | 208/250 [07:26<01:30,  2.15s/it, Loss=0.0159]"
          ]
        },
        {
          "name": "stdout",
          "output_type": "stream",
          "text": [
            "step =  208\n"
          ]
        },
        {
          "name": "stderr",
          "output_type": "stream",
          "text": [
            " 84%|████████▎ | 209/250 [07:28<01:28,  2.16s/it, Loss=0.00273]"
          ]
        },
        {
          "name": "stdout",
          "output_type": "stream",
          "text": [
            "step =  209\n"
          ]
        },
        {
          "name": "stderr",
          "output_type": "stream",
          "text": [
            " 84%|████████▍ | 210/250 [07:30<01:25,  2.15s/it, Loss=0.00441]"
          ]
        },
        {
          "name": "stdout",
          "output_type": "stream",
          "text": [
            "step =  210\n"
          ]
        },
        {
          "name": "stderr",
          "output_type": "stream",
          "text": [
            " 85%|████████▍ | 212/250 [07:32<01:21,  2.14s/it, Loss=0.00101]"
          ]
        },
        {
          "name": "stdout",
          "output_type": "stream",
          "text": [
            "step =  211\n"
          ]
        },
        {
          "name": "stderr",
          "output_type": "stream",
          "text": [
            " 85%|████████▍ | 212/250 [07:34<01:21,  2.14s/it, Loss=0.00211]"
          ]
        },
        {
          "name": "stdout",
          "output_type": "stream",
          "text": [
            "step =  212\n"
          ]
        },
        {
          "name": "stderr",
          "output_type": "stream",
          "text": [
            " 86%|████████▌ | 214/250 [07:37<01:16,  2.14s/it, Loss=0.00144]"
          ]
        },
        {
          "name": "stdout",
          "output_type": "stream",
          "text": [
            "step =  213\n"
          ]
        },
        {
          "name": "stderr",
          "output_type": "stream",
          "text": [
            " 86%|████████▌ | 215/250 [07:39<01:15,  2.15s/it, Loss=0.0019] "
          ]
        },
        {
          "name": "stdout",
          "output_type": "stream",
          "text": [
            "step =  214\n"
          ]
        },
        {
          "name": "stderr",
          "output_type": "stream",
          "text": [
            " 86%|████████▋ | 216/250 [07:41<01:12,  2.15s/it, Loss=0.0107]"
          ]
        },
        {
          "name": "stdout",
          "output_type": "stream",
          "text": [
            "step =  215\n"
          ]
        },
        {
          "name": "stderr",
          "output_type": "stream",
          "text": [
            " 86%|████████▋ | 216/250 [07:43<01:12,  2.15s/it, Loss=0.00107]"
          ]
        },
        {
          "name": "stdout",
          "output_type": "stream",
          "text": [
            "step =  216\n"
          ]
        },
        {
          "name": "stderr",
          "output_type": "stream",
          "text": [
            " 87%|████████▋ | 218/250 [07:45<01:08,  2.13s/it, Loss=0.0104] "
          ]
        },
        {
          "name": "stdout",
          "output_type": "stream",
          "text": [
            "step =  217\n"
          ]
        },
        {
          "name": "stderr",
          "output_type": "stream",
          "text": [
            " 87%|████████▋ | 218/250 [07:47<01:08,  2.13s/it, Loss=0.0138]"
          ]
        },
        {
          "name": "stdout",
          "output_type": "stream",
          "text": [
            "step =  218\n"
          ]
        },
        {
          "name": "stderr",
          "output_type": "stream",
          "text": [
            " 88%|████████▊ | 219/250 [07:49<01:06,  2.15s/it, Loss=0.00547]"
          ]
        },
        {
          "name": "stdout",
          "output_type": "stream",
          "text": [
            "step =  219\n"
          ]
        },
        {
          "name": "stderr",
          "output_type": "stream",
          "text": [
            " 88%|████████▊ | 220/250 [07:52<01:04,  2.15s/it, Loss=0.00522]"
          ]
        },
        {
          "name": "stdout",
          "output_type": "stream",
          "text": [
            "step =  220\n"
          ]
        },
        {
          "name": "stderr",
          "output_type": "stream",
          "text": [
            " 89%|████████▉ | 222/250 [07:54<00:59,  2.14s/it, Loss=0.0104] "
          ]
        },
        {
          "name": "stdout",
          "output_type": "stream",
          "text": [
            "step =  221\n"
          ]
        },
        {
          "name": "stderr",
          "output_type": "stream",
          "text": [
            " 89%|████████▉ | 222/250 [07:56<00:59,  2.14s/it, Loss=0.00251]"
          ]
        },
        {
          "name": "stdout",
          "output_type": "stream",
          "text": [
            "step =  222\n"
          ]
        },
        {
          "name": "stderr",
          "output_type": "stream",
          "text": [
            " 90%|████████▉ | 224/250 [07:58<00:55,  2.14s/it, Loss=0.0432] "
          ]
        },
        {
          "name": "stdout",
          "output_type": "stream",
          "text": [
            "step =  223\n"
          ]
        },
        {
          "name": "stderr",
          "output_type": "stream",
          "text": [
            " 90%|█████████ | 225/250 [08:00<00:53,  2.14s/it, Loss=0.0733]"
          ]
        },
        {
          "name": "stdout",
          "output_type": "stream",
          "text": [
            "step =  224\n"
          ]
        },
        {
          "name": "stderr",
          "output_type": "stream",
          "text": [
            " 90%|█████████ | 225/250 [08:02<00:53,  2.14s/it, Loss=0.00285]"
          ]
        },
        {
          "name": "stdout",
          "output_type": "stream",
          "text": [
            "step =  225\n"
          ]
        },
        {
          "name": "stderr",
          "output_type": "stream",
          "text": [
            " 91%|█████████ | 227/250 [08:05<00:49,  2.14s/it, Loss=0.0223] "
          ]
        },
        {
          "name": "stdout",
          "output_type": "stream",
          "text": [
            "step =  226\n"
          ]
        },
        {
          "name": "stderr",
          "output_type": "stream",
          "text": [
            " 91%|█████████ | 228/250 [08:07<00:46,  2.13s/it, Loss=0.0108]"
          ]
        },
        {
          "name": "stdout",
          "output_type": "stream",
          "text": [
            "step =  227\n"
          ]
        },
        {
          "name": "stderr",
          "output_type": "stream",
          "text": [
            " 91%|█████████ | 228/250 [08:09<00:46,  2.13s/it, Loss=0.00404]"
          ]
        },
        {
          "name": "stdout",
          "output_type": "stream",
          "text": [
            "step =  228\n"
          ]
        },
        {
          "name": "stderr",
          "output_type": "stream",
          "text": [
            " 92%|█████████▏| 230/250 [08:11<00:42,  2.12s/it, Loss=0.0554] "
          ]
        },
        {
          "name": "stdout",
          "output_type": "stream",
          "text": [
            "step =  229\n"
          ]
        },
        {
          "name": "stderr",
          "output_type": "stream",
          "text": [
            " 92%|█████████▏| 230/250 [08:13<00:42,  2.12s/it, Loss=0.026] "
          ]
        },
        {
          "name": "stdout",
          "output_type": "stream",
          "text": [
            "step =  230\n"
          ]
        },
        {
          "name": "stderr",
          "output_type": "stream",
          "text": [
            " 93%|█████████▎| 232/250 [08:15<00:38,  2.12s/it, Loss=0.0455]"
          ]
        },
        {
          "name": "stdout",
          "output_type": "stream",
          "text": [
            "step =  231\n"
          ]
        },
        {
          "name": "stderr",
          "output_type": "stream",
          "text": [
            " 93%|█████████▎| 233/250 [08:17<00:36,  2.13s/it, Loss=0.0219]"
          ]
        },
        {
          "name": "stdout",
          "output_type": "stream",
          "text": [
            "step =  232\n"
          ]
        },
        {
          "name": "stderr",
          "output_type": "stream",
          "text": [
            " 93%|█████████▎| 233/250 [08:19<00:36,  2.13s/it, Loss=0.0424]"
          ]
        },
        {
          "name": "stdout",
          "output_type": "stream",
          "text": [
            "step =  233\n"
          ]
        },
        {
          "name": "stderr",
          "output_type": "stream",
          "text": [
            " 94%|█████████▍| 235/250 [08:22<00:32,  2.14s/it, Loss=0.0121]"
          ]
        },
        {
          "name": "stdout",
          "output_type": "stream",
          "text": [
            "step =  234\n"
          ]
        },
        {
          "name": "stderr",
          "output_type": "stream",
          "text": [
            " 94%|█████████▍| 236/250 [08:24<00:29,  2.14s/it, Loss=0.00693]"
          ]
        },
        {
          "name": "stdout",
          "output_type": "stream",
          "text": [
            "step =  235\n"
          ]
        },
        {
          "name": "stderr",
          "output_type": "stream",
          "text": [
            " 94%|█████████▍| 236/250 [08:26<00:29,  2.14s/it, Loss=0.0108] "
          ]
        },
        {
          "name": "stdout",
          "output_type": "stream",
          "text": [
            "step =  236\n"
          ]
        },
        {
          "name": "stderr",
          "output_type": "stream",
          "text": [
            " 95%|█████████▌| 238/250 [08:28<00:25,  2.14s/it, Loss=0.00217]"
          ]
        },
        {
          "name": "stdout",
          "output_type": "stream",
          "text": [
            "step =  237\n"
          ]
        },
        {
          "name": "stderr",
          "output_type": "stream",
          "text": [
            " 95%|█████████▌| 238/250 [08:30<00:25,  2.14s/it, Loss=0.011]  "
          ]
        },
        {
          "name": "stdout",
          "output_type": "stream",
          "text": [
            "step =  238\n"
          ]
        },
        {
          "name": "stderr",
          "output_type": "stream",
          "text": [
            " 96%|█████████▌| 239/250 [08:32<00:23,  2.15s/it, Loss=0.00923]"
          ]
        },
        {
          "name": "stdout",
          "output_type": "stream",
          "text": [
            "step =  239\n"
          ]
        },
        {
          "name": "stderr",
          "output_type": "stream",
          "text": [
            " 96%|█████████▌| 240/250 [08:34<00:21,  2.16s/it, Loss=0.0166] "
          ]
        },
        {
          "name": "stdout",
          "output_type": "stream",
          "text": [
            "step =  240\n"
          ]
        },
        {
          "name": "stderr",
          "output_type": "stream",
          "text": [
            " 96%|█████████▋| 241/250 [08:37<00:19,  2.17s/it, Loss=0.00978]"
          ]
        },
        {
          "name": "stdout",
          "output_type": "stream",
          "text": [
            "step =  241\n"
          ]
        },
        {
          "name": "stderr",
          "output_type": "stream",
          "text": [
            " 97%|█████████▋| 243/250 [08:39<00:15,  2.15s/it, Loss=0.00324]"
          ]
        },
        {
          "name": "stdout",
          "output_type": "stream",
          "text": [
            "step =  242\n"
          ]
        },
        {
          "name": "stderr",
          "output_type": "stream",
          "text": [
            " 97%|█████████▋| 243/250 [08:41<00:15,  2.15s/it, Loss=0.0226] "
          ]
        },
        {
          "name": "stdout",
          "output_type": "stream",
          "text": [
            "step =  243\n"
          ]
        },
        {
          "name": "stderr",
          "output_type": "stream",
          "text": [
            " 98%|█████████▊| 245/250 [08:43<00:10,  2.15s/it, Loss=0.0127]"
          ]
        },
        {
          "name": "stdout",
          "output_type": "stream",
          "text": [
            "step =  244\n"
          ]
        },
        {
          "name": "stderr",
          "output_type": "stream",
          "text": [
            " 98%|█████████▊| 246/250 [08:45<00:08,  2.15s/it, Loss=0.00224]"
          ]
        },
        {
          "name": "stdout",
          "output_type": "stream",
          "text": [
            "step =  245\n"
          ]
        },
        {
          "name": "stderr",
          "output_type": "stream",
          "text": [
            " 98%|█████████▊| 246/250 [08:47<00:08,  2.15s/it, Loss=0.00373]"
          ]
        },
        {
          "name": "stdout",
          "output_type": "stream",
          "text": [
            "step =  246\n"
          ]
        },
        {
          "name": "stderr",
          "output_type": "stream",
          "text": [
            " 99%|█████████▉| 248/250 [08:50<00:04,  2.14s/it, Loss=0.00162]"
          ]
        },
        {
          "name": "stdout",
          "output_type": "stream",
          "text": [
            "step =  247\n"
          ]
        },
        {
          "name": "stderr",
          "output_type": "stream",
          "text": [
            " 99%|█████████▉| 248/250 [08:52<00:04,  2.14s/it, Loss=0.0336] "
          ]
        },
        {
          "name": "stdout",
          "output_type": "stream",
          "text": [
            "step =  248\n"
          ]
        },
        {
          "name": "stderr",
          "output_type": "stream",
          "text": [
            "100%|██████████| 250/250 [08:54<00:00,  2.14s/it, Loss=0.00253]"
          ]
        },
        {
          "name": "stdout",
          "output_type": "stream",
          "text": [
            "step =  249\n"
          ]
        },
        {
          "name": "stderr",
          "output_type": "stream",
          "text": [
            "100%|██████████| 250/250 [08:56<00:00,  2.15s/it, Loss=0.00138]\n"
          ]
        }
      ],
      "source": [
        "import torch\n",
        "import torch.nn as nn\n",
        "import torch.optim as optim\n",
        "import tqdm\n",
        "\n",
        "\n",
        "def finetune_unet(\n",
        "    input_image_0_1, # Image originale (tenseur 0-1)\n",
        "    eopt,            \n",
        "    unet,\n",
        "    vae,             # Le VAE (pour encoder l'image)\n",
        "    scheduler,       # Le scheduler (pour bruiter)\n",
        "    device,\n",
        "    num_steps=1500,\n",
        "    lr=5e-7\n",
        "):\n",
        "\n",
        "    unet.train() # Met le modèle en mode entraînement\n",
        "    for param in unet.parameters():\n",
        "        param.requires_grad = True # S'assurer que les gradients sont activés\n",
        "\n",
        "\n",
        "    # Optimizer pour Unet\n",
        "    optimizer = optim.AdamW(unet.parameters(), lr=lr)\n",
        "    criterion = nn.MSELoss()\n",
        "\n",
        "    # Même chose que pour eopt\n",
        "    image_m1_1 = (input_image_0_1.to(device) * 2.0) - 1.0\n",
        "\n",
        "    # Pas besoin de modifier vae\n",
        "    with torch.no_grad():\n",
        "        encoded_dist = vae.encode(image_m1_1).latent_dist\n",
        "        z0 = encoded_dist.mean * vae.config.scaling_factor\n",
        "        \n",
        "        \n",
        "    # --- Boucle de Fine-tuning ---\n",
        "    progress_bar = tqdm.tqdm(range(num_steps))\n",
        "    for step in range(num_steps):\n",
        "        print(\"step = \", step)\n",
        "        optimizer.zero_grad()\n",
        "\n",
        "        noise_latent = torch.randn_like(z0, device=device)\n",
        "        t = torch.randint(0, scheduler.config.num_train_timesteps, (1,), device=device).long()\n",
        "\n",
        "        zt = scheduler.add_noise(z0, noise_latent, t)\n",
        "        output = unet(zt, t, encoder_hidden_states=eopt)\n",
        "        noise_pred = output.sample\n",
        "\n",
        "        # Calculate loss\n",
        "        loss = criterion(noise_pred, noise_latent)\n",
        "\n",
        "        # Backpropagate\n",
        "        loss.backward()\n",
        "        optimizer.step()\n",
        "\n",
        "        progress_bar.update(1)\n",
        "        progress_bar.set_postfix({\"Loss\": loss.item()})\n",
        "\n",
        "    return unet\n",
        "\n",
        "\n",
        "\n",
        "\n",
        "unet_fine_tuned = finetune_unet(\n",
        "    image,\n",
        "    eopt, # L'output de optimize_embeddings\n",
        "    diffusion_model,\n",
        "    vae,\n",
        "    scheduler,\n",
        "    device,\n",
        "    num_steps=250,\n",
        "    lr=5e-6\n",
        ")\n"
      ]
    },
    {
      "cell_type": "markdown",
      "metadata": {
        "id": "bwnleLPJH20K"
      },
      "source": [
        "# Etape 3"
      ]
    },
    {
      "cell_type": "code",
      "execution_count": 15,
      "metadata": {
        "id": "lhRM1CrnH41s"
      },
      "outputs": [],
      "source": [
        "\n",
        "def interpolate_embeddings(etgt, eopt, eta):\n",
        "\n",
        "  e_interpolated = eta * etgt + (1 - eta) * eopt\n",
        "\n",
        "  return e_interpolated\n",
        "\n",
        "interpolation_factor_eta = 0.7\n",
        "e_interpolated = interpolate_embeddings(etgt, eopt, eta=interpolation_factor_eta)\n"
      ]
    },
    {
      "cell_type": "markdown",
      "metadata": {
        "id": "TwBSPzR35-ym"
      },
      "source": [
        "# Script permettant d'observer la prédiction du modèle avec etbt après optimisation  \n",
        "\n",
        "##  (A utiliser uniquement pour le rapport)"
      ]
    },
    {
      "cell_type": "code",
      "execution_count": 16,
      "metadata": {
        "colab": {
          "base_uri": "https://localhost:8080/",
          "height": 321
        },
        "id": "XHwR--To5d5-",
        "outputId": "bcfb2fc2-d9e5-4349-dd92-a43893dec6d9"
      },
      "outputs": [
        {
          "name": "stdout",
          "output_type": "stream",
          "text": [
            "Starting denoising loop...\n"
          ]
        },
        {
          "data": {
            "application/vnd.jupyter.widget-view+json": {
              "model_id": "b4043ab0b7974f009d50e7a9c16d1cde",
              "version_major": 2,
              "version_minor": 0
            },
            "text/plain": [
              "  0%|          | 0/51 [00:00<?, ?it/s]"
            ]
          },
          "metadata": {},
          "output_type": "display_data"
        },
        {
          "data": {
            "image/jpeg": "[encoded data removed]",
            "image/png": "[encoded data removed]",
            "text/plain": [
              "<PIL.Image.Image image mode=RGB size=128x128>"
            ]
          },
          "execution_count": 16,
          "metadata": {},
          "output_type": "execute_result"
        }
      ],
      "source": [
        "import torch\n",
        "from PIL import Image\n",
        "import numpy as np\n",
        "from tqdm.auto import tqdm\n",
        "\n",
        "@torch.no_grad()\n",
        "def generate_with_eopt(input_image, eopt, unet, scheduler, vae, device, height=512, width=512, num_inference_steps=50):\n",
        "\n",
        "    image_m1_1 = (input_image * 2.0) - 1.0\n",
        "\n",
        "    with torch.no_grad():\n",
        "        image_latent = vae.encode(image_m1_1).latent_dist\n",
        "        latents = image_latent.mean * vae.config.scaling_factor\n",
        "        latents.to(device)\n",
        "\n",
        "    # Génération a partir de bruit\n",
        "    latents = torch.randn_like(latents)\n",
        "\n",
        "    # 3. Définir les timesteps\n",
        "    scheduler.set_timesteps(num_inference_steps)\n",
        "    timesteps = scheduler.timesteps.to(device)\n",
        "\n",
        "\n",
        "    # Boucle pour enlever le bruit\n",
        "    print(\"Starting denoising loop...\")\n",
        "    for t in tqdm(timesteps):\n",
        "        latent_model_input = scheduler.scale_model_input(latents, t) # Mise à l'échelle si besoin\n",
        "\n",
        "        noise_pred = unet(latent_model_input, t, encoder_hidden_states=eopt).sample\n",
        "        latents = scheduler.step(noise_pred, t, latents).prev_sample\n",
        "\n",
        "\n",
        "    # Passer de l'espace latent à l'image réelle\n",
        "    latents = latents / vae.config.scaling_factor\n",
        "    image_pixels = vae.decode(latents).sample\n",
        "\n",
        "    image_pixels = (image_pixels / 2 + 0.5).clamp(0, 1) # Remap [-1, 1] -> [0, 1]\n",
        "    image_pixels = image_pixels.cpu().permute(0, 2, 3, 1).numpy() # Format [Batch, H, W, C] pour PIL\n",
        "    image_pil = Image.fromarray((image_pixels[0] * 255).astype(np.uint8)) # Prend la 1ere image du batch\n",
        "\n",
        "    return image_pil\n",
        "\n",
        "\n",
        "generate_with_eopt(image, e_interpolated, unet_fine_tuned, scheduler, vae, device=\"cuda\", height=128, width=128, num_inference_steps=50)"
      ]
    },
    {
      "cell_type": "markdown",
      "metadata": {
        "id": "J8KTUguPG3kw"
      },
      "source": [
        "# Test\n"
      ]
    },
    {
      "cell_type": "code",
      "execution_count": 17,
      "metadata": {
        "id": "svGi-i4WG2QE"
      },
      "outputs": [],
      "source": [
        "import torch\n",
        "from PIL import Image\n",
        "import numpy as np\n",
        "from tqdm.auto import tqdm\n",
        "\n",
        "@torch.no_grad()\n",
        "def generate_with_eopt(eopt, unet, scheduler, vae, device, height=512, width=512, num_inference_steps=50, guidance_scale=7.5, seed=None): # Removed input_image from args\n",
        "    \"\"\"Génère une image en utilisant l'embedding optimisé eopt, en partant de bruit.\"\"\"\n",
        "\n",
        "    # --- Initial Setup ---\n",
        "    if seed is not None:\n",
        "        generator = torch.Generator(device=device).manual_seed(seed)\n",
        "    else:\n",
        "        generator = None\n",
        "\n",
        "    unet = unet.to(device).eval()\n",
        "    vae = vae.to(device).eval()\n",
        "    eopt = eopt.to(device)\n",
        "\n",
        "    # --- 1. Initialisation du Bruit Latent ---\n",
        "    # PAS d'encodage de l'image d'entrée ici.\n",
        "    # image_m1_1 = (input_image * 2.0) - 1.0 # ERREUR : Supprimé\n",
        "    # with torch.no_grad(): # ERREUR : Supprimé\n",
        "    #     image_latent = vae.encode(image_m1_1).latent_dist # ERREUR : Supprimé\n",
        "    #     latents = image_latent.mean * vae.config.scaling_factor # ERREUR : Supprimé\n",
        "    #     latents.to(device) # ERREUR : Supprimé\n",
        "\n",
        "    # CORRECTION : Créer bruit aléatoire\n",
        "    latent_height = height // 8\n",
        "    latent_width = width // 8\n",
        "    latent_channels = unet.config.in_channels\n",
        "    latent_shape = (1, latent_channels, latent_height, latent_width)\n",
        "    latents = torch.randn(latent_shape, generator=generator, device=device, dtype=unet.dtype)\n",
        "    print(f\"Initial random latents shape: {latents.shape}, Device: {latents.device}\")\n",
        "\n",
        "\n",
        "    # --- 2. Préparer le Scheduler ---\n",
        "    scheduler.set_timesteps(num_inference_steps)\n",
        "    timesteps = scheduler.timesteps.to(device) # OK\n",
        "\n",
        "    # Mise à l'échelle initiale du bruit (important !)\n",
        "    latents = latents * scheduler.init_noise_sigma # OK\n",
        "\n",
        "\n",
        "    # --- ERREUR : Ligne ajoutée incorrecte ---\n",
        "    # noise_latent = torch.randn_like(latents) # ERREUR : Bruit redondant\n",
        "    # latents = diffusion_model(noise_latent, timesteps, encoder_hidden_states=eopt).to(device) # ERREUR : Conceptuellement faux\n",
        "    # Cette ligne essayait d'appeler le modèle sur du bruit pur avec *tous* les timesteps en même temps ?\n",
        "    # Elle court-circuitait complètement la boucle de débruitage itératif. Supprimée.\n",
        "\n",
        "\n",
        "    # --- 3. Boucle de Débruitage ---\n",
        "    print(\"Starting denoising loop...\")\n",
        "    for t in tqdm(timesteps):\n",
        "        # Pas de guidance nécessaire ici\n",
        "        latent_model_input = scheduler.scale_model_input(latents, t) # OK (Mise à l'échelle si besoin)\n",
        "\n",
        "        # Prédire le bruit avec le UNet\n",
        "        noise_pred = unet(latent_model_input, t, encoder_hidden_states=eopt).sample # OK\n",
        "\n",
        "        # Calculer l'état précédent avec le scheduler\n",
        "        latents = scheduler.step(noise_pred, t, latents).prev_sample # OK\n",
        "    print(\"Denoising finished.\")\n",
        "\n",
        "\n",
        "    # --- 4. Décoder l'Image Latente Finale ---\n",
        "    latents = latents / vae.config.scaling_factor # OK\n",
        "    print(\"Decoding final latents...\")\n",
        "    image_pixels = vae.decode(latents).sample # OK\n",
        "\n",
        "    # --- 5. Post-traitement ---\n",
        "    image_pixels = (image_pixels / 2 + 0.5).clamp(0, 1) # OK\n",
        "    image_pixels = image_pixels.cpu().permute(0, 2, 3, 1).numpy() # OK\n",
        "    image_pil = Image.fromarray((image_pixels[0] * 255).astype(np.uint8)) # OK\n",
        "\n",
        "    return image_pil\n",
        "\n",
        "\n",
        "# --- Appel ---\n",
        "# Assurez-vous que 'eopt' est l'embedding optimisé et DÉTACHÉ\n",
        "# Assurez-vous que 'unet' (diffusion_model dans l'appel original), 'scheduler', 'vae' sont chargés\n",
        "# Assurez-vous que 'device' est défini\n",
        "\n",
        "# image_result = generate_with_eopt(eopt, unet, scheduler, vae, device, num_inference_steps=50, seed=42)\n",
        "# image_result.show()"
      ]
    },
    {
      "cell_type": "markdown",
      "metadata": {
        "id": "fleUSf0cB5By"
      },
      "source": [
        "# Example generation Text-Image\n",
        "\n"
      ]
    },
    {
      "cell_type": "code",
      "execution_count": 18,
      "metadata": {
        "colab": {
          "base_uri": "https://localhost:8080/",
          "height": 81,
          "referenced_widgets": [
            "2f88e6a144c34106b7d9a14633e9cd5d",
            "b8c87cb26f924726bebf74fb1408c81e",
            "9cbc459bae814578ab1bcf29d9cf8618",
            "dae5e403983a426fb9a31cedf70ae5d7",
            "eef1e685dc824ea59da626be1a61afcc",
            "d9735d8c37a049aaab8fc488f5342546",
            "e83fd54c64584af49efe81a7f82b9323",
            "ae7ae6dd559740de8c909cdc026b7eb8",
            "03b05f11e7f14e18949555c1723b8aee",
            "8f7144a77aff4a5fb924eabf7ab79e22",
            "f346aef2bc834b8299f9651bd27f049c",
            "4926afb30c244bd0b32c39c87eaeccf4",
            "01dfce5212a54f33a1699096728cb380",
            "d97b98b66be24da0b868d23271added5",
            "d35d4c90941043d0a6fedc6f9935e83c",
            "2619b570d06c4b07a15beaa72223105d",
            "2ed4e98221c04950b3aba6aefd3bb113",
            "2a12d98bdbc24097a74832fb42843aac",
            "c5cbac1dc7014533919ebb43918aadec",
            "ab3e978c3603476a958307af7c0d77fe",
            "cd55f5b6d01f41d9b0725785d32e95c1",
            "f728d9bea99d46c6a132be69b4c2b87f"
          ]
        },
        "id": "3yBMpz1WB4Db",
        "outputId": "9ac3ad5c-15cc-490f-8313-828c5fe12833"
      },
      "outputs": [
        {
          "data": {
            "application/vnd.jupyter.widget-view+json": {
              "model_id": "9fb35ed22aff4fc5866f00eb91569ca6",
              "version_major": 2,
              "version_minor": 0
            },
            "text/plain": [
              "Loading pipeline components...:   0%|          | 0/7 [00:00<?, ?it/s]"
            ]
          },
          "metadata": {},
          "output_type": "display_data"
        },
        {
          "data": {
            "application/vnd.jupyter.widget-view+json": {
              "model_id": "e97b92f778c54c5babe7aed4293e5429",
              "version_major": 2,
              "version_minor": 0
            },
            "text/plain": [
              "  0%|          | 0/50 [00:00<?, ?it/s]"
            ]
          },
          "metadata": {},
          "output_type": "display_data"
        }
      ],
      "source": [
        "import torch\n",
        "from diffusers import StableDiffusionPipeline\n",
        "\n",
        "model_id = \"stable-diffusion-v1-5/stable-diffusion-v1-5\"\n",
        "device = \"cuda\"\n",
        "\n",
        "\n",
        "pipe = StableDiffusionPipeline.from_pretrained(model_id, torch_dtype=torch.float16)\n",
        "pipe = pipe.to(device)\n",
        "\n",
        "prompt = \"An astronaut riding horse in Mars\"\n",
        "image = pipe(prompt).images[0]\n",
        "\n",
        "image.save(\"astronaut_rides_horse.png\")\n"
      ]
    }
  ],
  "metadata": {
    "accelerator": "GPU",
    "colab": {
      "gpuType": "T4",
      "provenance": []
    },
    "kernelspec": {
      "display_name": "base",
      "language": "python",
      "name": "python3"
    },
    "language_info": {
      "codemirror_mode": {
        "name": "ipython",
        "version": 3
      },
      "file_extension": ".py",
      "mimetype": "text/x-python",
      "name": "python",
      "nbconvert_exporter": "python",
      "pygments_lexer": "ipython3",
      "version": "3.12.2"
    },
    "widgets": {
      "application/vnd.jupyter.widget-state+json": {
        "01dfce5212a54f33a1699096728cb380": {
          "model_module": "@jupyter-widgets/controls",
          "model_module_version": "1.5.0",
          "model_name": "HTMLModel",
          "state": {
            "_dom_classes": [],
            "_model_module": "@jupyter-widgets/controls",
            "_model_module_version": "1.5.0",
            "_model_name": "HTMLModel",
            "_view_count": null,
            "_view_module": "@jupyter-widgets/controls",
            "_view_module_version": "1.5.0",
            "_view_name": "HTMLView",
            "description": "",
            "description_tooltip": null,
            "layout": "IPY_MODEL_2ed4e98221c04950b3aba6aefd3bb113",
            "placeholder": "​",
            "style": "IPY_MODEL_2a12d98bdbc24097a74832fb42843aac",
            "value": "100%"
          }
        },
        "03b05f11e7f14e18949555c1723b8aee": {
          "model_module": "@jupyter-widgets/controls",
          "model_module_version": "1.5.0",
          "model_name": "ProgressStyleModel",
          "state": {
            "_model_module": "@jupyter-widgets/controls",
            "_model_module_version": "1.5.0",
            "_model_name": "ProgressStyleModel",
            "_view_count": null,
            "_view_module": "@jupyter-widgets/base",
            "_view_module_version": "1.2.0",
            "_view_name": "StyleView",
            "bar_color": null,
            "description_width": ""
          }
        },
        "056735f65e69474c9832e51b005dfcb1": {
          "model_module": "@jupyter-widgets/controls",
          "model_module_version": "1.5.0",
          "model_name": "HTMLModel",
          "state": {
            "_dom_classes": [],
            "_model_module": "@jupyter-widgets/controls",
            "_model_module_version": "1.5.0",
            "_model_name": "HTMLModel",
            "_view_count": null,
            "_view_module": "@jupyter-widgets/controls",
            "_view_module_version": "1.5.0",
            "_view_name": "HTMLView",
            "description": "",
            "description_tooltip": null,
            "layout": "IPY_MODEL_52ccaa8e2ea74282a58859f0c1067b93",
            "placeholder": "​",
            "style": "IPY_MODEL_cd0b278465d946929b15ed54e33d4eb3",
            "value": "Loading pipeline components...: 100%"
          }
        },
        "0bd1f87526b640adbba389472b6084cd": {
          "model_module": "@jupyter-widgets/controls",
          "model_module_version": "1.5.0",
          "model_name": "HTMLModel",
          "state": {
            "_dom_classes": [],
            "_model_module": "@jupyter-widgets/controls",
            "_model_module_version": "1.5.0",
            "_model_name": "HTMLModel",
            "_view_count": null,
            "_view_module": "@jupyter-widgets/controls",
            "_view_module_version": "1.5.0",
            "_view_name": "HTMLView",
            "description": "",
            "description_tooltip": null,
            "layout": "IPY_MODEL_18a32615d65b410997d83f4a61404e7d",
            "placeholder": "​",
            "style": "IPY_MODEL_560353383876479c9aca823d1c8c3eab",
            "value": " 7/7 [00:00&lt;00:00, 10.93it/s]"
          }
        },
        "18a32615d65b410997d83f4a61404e7d": {
          "model_module": "@jupyter-widgets/base",
          "model_module_version": "1.2.0",
          "model_name": "LayoutModel",
          "state": {
            "_model_module": "@jupyter-widgets/base",
            "_model_module_version": "1.2.0",
            "_model_name": "LayoutModel",
            "_view_count": null,
            "_view_module": "@jupyter-widgets/base",
            "_view_module_version": "1.2.0",
            "_view_name": "LayoutView",
            "align_content": null,
            "align_items": null,
            "align_self": null,
            "border": null,
            "bottom": null,
            "display": null,
            "flex": null,
            "flex_flow": null,
            "grid_area": null,
            "grid_auto_columns": null,
            "grid_auto_flow": null,
            "grid_auto_rows": null,
            "grid_column": null,
            "grid_gap": null,
            "grid_row": null,
            "grid_template_areas": null,
            "grid_template_columns": null,
            "grid_template_rows": null,
            "height": null,
            "justify_content": null,
            "justify_items": null,
            "left": null,
            "margin": null,
            "max_height": null,
            "max_width": null,
            "min_height": null,
            "min_width": null,
            "object_fit": null,
            "object_position": null,
            "order": null,
            "overflow": null,
            "overflow_x": null,
            "overflow_y": null,
            "padding": null,
            "right": null,
            "top": null,
            "visibility": null,
            "width": null
          }
        },
        "2619b570d06c4b07a15beaa72223105d": {
          "model_module": "@jupyter-widgets/base",
          "model_module_version": "1.2.0",
          "model_name": "LayoutModel",
          "state": {
            "_model_module": "@jupyter-widgets/base",
            "_model_module_version": "1.2.0",
            "_model_name": "LayoutModel",
            "_view_count": null,
            "_view_module": "@jupyter-widgets/base",
            "_view_module_version": "1.2.0",
            "_view_name": "LayoutView",
            "align_content": null,
            "align_items": null,
            "align_self": null,
            "border": null,
            "bottom": null,
            "display": null,
            "flex": null,
            "flex_flow": null,
            "grid_area": null,
            "grid_auto_columns": null,
            "grid_auto_flow": null,
            "grid_auto_rows": null,
            "grid_column": null,
            "grid_gap": null,
            "grid_row": null,
            "grid_template_areas": null,
            "grid_template_columns": null,
            "grid_template_rows": null,
            "height": null,
            "justify_content": null,
            "justify_items": null,
            "left": null,
            "margin": null,
            "max_height": null,
            "max_width": null,
            "min_height": null,
            "min_width": null,
            "object_fit": null,
            "object_position": null,
            "order": null,
            "overflow": null,
            "overflow_x": null,
            "overflow_y": null,
            "padding": null,
            "right": null,
            "top": null,
            "visibility": null,
            "width": null
          }
        },
        "2a12d98bdbc24097a74832fb42843aac": {
          "model_module": "@jupyter-widgets/controls",
          "model_module_version": "1.5.0",
          "model_name": "DescriptionStyleModel",
          "state": {
            "_model_module": "@jupyter-widgets/controls",
            "_model_module_version": "1.5.0",
            "_model_name": "DescriptionStyleModel",
            "_view_count": null,
            "_view_module": "@jupyter-widgets/base",
            "_view_module_version": "1.2.0",
            "_view_name": "StyleView",
            "description_width": ""
          }
        },
        "2ed4e98221c04950b3aba6aefd3bb113": {
          "model_module": "@jupyter-widgets/base",
          "model_module_version": "1.2.0",
          "model_name": "LayoutModel",
          "state": {
            "_model_module": "@jupyter-widgets/base",
            "_model_module_version": "1.2.0",
            "_model_name": "LayoutModel",
            "_view_count": null,
            "_view_module": "@jupyter-widgets/base",
            "_view_module_version": "1.2.0",
            "_view_name": "LayoutView",
            "align_content": null,
            "align_items": null,
            "align_self": null,
            "border": null,
            "bottom": null,
            "display": null,
            "flex": null,
            "flex_flow": null,
            "grid_area": null,
            "grid_auto_columns": null,
            "grid_auto_flow": null,
            "grid_auto_rows": null,
            "grid_column": null,
            "grid_gap": null,
            "grid_row": null,
            "grid_template_areas": null,
            "grid_template_columns": null,
            "grid_template_rows": null,
            "height": null,
            "justify_content": null,
            "justify_items": null,
            "left": null,
            "margin": null,
            "max_height": null,
            "max_width": null,
            "min_height": null,
            "min_width": null,
            "object_fit": null,
            "object_position": null,
            "order": null,
            "overflow": null,
            "overflow_x": null,
            "overflow_y": null,
            "padding": null,
            "right": null,
            "top": null,
            "visibility": null,
            "width": null
          }
        },
        "2f88e6a144c34106b7d9a14633e9cd5d": {
          "model_module": "@jupyter-widgets/controls",
          "model_module_version": "1.5.0",
          "model_name": "HBoxModel",
          "state": {
            "_dom_classes": [],
            "_model_module": "@jupyter-widgets/controls",
            "_model_module_version": "1.5.0",
            "_model_name": "HBoxModel",
            "_view_count": null,
            "_view_module": "@jupyter-widgets/controls",
            "_view_module_version": "1.5.0",
            "_view_name": "HBoxView",
            "box_style": "",
            "children": [
              "IPY_MODEL_b8c87cb26f924726bebf74fb1408c81e",
              "IPY_MODEL_9cbc459bae814578ab1bcf29d9cf8618",
              "IPY_MODEL_dae5e403983a426fb9a31cedf70ae5d7"
            ],
            "layout": "IPY_MODEL_eef1e685dc824ea59da626be1a61afcc"
          }
        },
        "4926afb30c244bd0b32c39c87eaeccf4": {
          "model_module": "@jupyter-widgets/controls",
          "model_module_version": "1.5.0",
          "model_name": "HBoxModel",
          "state": {
            "_dom_classes": [],
            "_model_module": "@jupyter-widgets/controls",
            "_model_module_version": "1.5.0",
            "_model_name": "HBoxModel",
            "_view_count": null,
            "_view_module": "@jupyter-widgets/controls",
            "_view_module_version": "1.5.0",
            "_view_name": "HBoxView",
            "box_style": "",
            "children": [
              "IPY_MODEL_01dfce5212a54f33a1699096728cb380",
              "IPY_MODEL_d97b98b66be24da0b868d23271added5",
              "IPY_MODEL_d35d4c90941043d0a6fedc6f9935e83c"
            ],
            "layout": "IPY_MODEL_2619b570d06c4b07a15beaa72223105d"
          }
        },
        "52ccaa8e2ea74282a58859f0c1067b93": {
          "model_module": "@jupyter-widgets/base",
          "model_module_version": "1.2.0",
          "model_name": "LayoutModel",
          "state": {
            "_model_module": "@jupyter-widgets/base",
            "_model_module_version": "1.2.0",
            "_model_name": "LayoutModel",
            "_view_count": null,
            "_view_module": "@jupyter-widgets/base",
            "_view_module_version": "1.2.0",
            "_view_name": "LayoutView",
            "align_content": null,
            "align_items": null,
            "align_self": null,
            "border": null,
            "bottom": null,
            "display": null,
            "flex": null,
            "flex_flow": null,
            "grid_area": null,
            "grid_auto_columns": null,
            "grid_auto_flow": null,
            "grid_auto_rows": null,
            "grid_column": null,
            "grid_gap": null,
            "grid_row": null,
            "grid_template_areas": null,
            "grid_template_columns": null,
            "grid_template_rows": null,
            "height": null,
            "justify_content": null,
            "justify_items": null,
            "left": null,
            "margin": null,
            "max_height": null,
            "max_width": null,
            "min_height": null,
            "min_width": null,
            "object_fit": null,
            "object_position": null,
            "order": null,
            "overflow": null,
            "overflow_x": null,
            "overflow_y": null,
            "padding": null,
            "right": null,
            "top": null,
            "visibility": null,
            "width": null
          }
        },
        "560353383876479c9aca823d1c8c3eab": {
          "model_module": "@jupyter-widgets/controls",
          "model_module_version": "1.5.0",
          "model_name": "DescriptionStyleModel",
          "state": {
            "_model_module": "@jupyter-widgets/controls",
            "_model_module_version": "1.5.0",
            "_model_name": "DescriptionStyleModel",
            "_view_count": null,
            "_view_module": "@jupyter-widgets/base",
            "_view_module_version": "1.2.0",
            "_view_name": "StyleView",
            "description_width": ""
          }
        },
        "5708c7ed5b01442dbae77baae29a5079": {
          "model_module": "@jupyter-widgets/base",
          "model_module_version": "1.2.0",
          "model_name": "LayoutModel",
          "state": {
            "_model_module": "@jupyter-widgets/base",
            "_model_module_version": "1.2.0",
            "_model_name": "LayoutModel",
            "_view_count": null,
            "_view_module": "@jupyter-widgets/base",
            "_view_module_version": "1.2.0",
            "_view_name": "LayoutView",
            "align_content": null,
            "align_items": null,
            "align_self": null,
            "border": null,
            "bottom": null,
            "display": null,
            "flex": null,
            "flex_flow": null,
            "grid_area": null,
            "grid_auto_columns": null,
            "grid_auto_flow": null,
            "grid_auto_rows": null,
            "grid_column": null,
            "grid_gap": null,
            "grid_row": null,
            "grid_template_areas": null,
            "grid_template_columns": null,
            "grid_template_rows": null,
            "height": null,
            "justify_content": null,
            "justify_items": null,
            "left": null,
            "margin": null,
            "max_height": null,
            "max_width": null,
            "min_height": null,
            "min_width": null,
            "object_fit": null,
            "object_position": null,
            "order": null,
            "overflow": null,
            "overflow_x": null,
            "overflow_y": null,
            "padding": null,
            "right": null,
            "top": null,
            "visibility": null,
            "width": null
          }
        },
        "65b175bebe974478aa330ee4bb4edf65": {
          "model_module": "@jupyter-widgets/base",
          "model_module_version": "1.2.0",
          "model_name": "LayoutModel",
          "state": {
            "_model_module": "@jupyter-widgets/base",
            "_model_module_version": "1.2.0",
            "_model_name": "LayoutModel",
            "_view_count": null,
            "_view_module": "@jupyter-widgets/base",
            "_view_module_version": "1.2.0",
            "_view_name": "LayoutView",
            "align_content": null,
            "align_items": null,
            "align_self": null,
            "border": null,
            "bottom": null,
            "display": null,
            "flex": null,
            "flex_flow": null,
            "grid_area": null,
            "grid_auto_columns": null,
            "grid_auto_flow": null,
            "grid_auto_rows": null,
            "grid_column": null,
            "grid_gap": null,
            "grid_row": null,
            "grid_template_areas": null,
            "grid_template_columns": null,
            "grid_template_rows": null,
            "height": null,
            "justify_content": null,
            "justify_items": null,
            "left": null,
            "margin": null,
            "max_height": null,
            "max_width": null,
            "min_height": null,
            "min_width": null,
            "object_fit": null,
            "object_position": null,
            "order": null,
            "overflow": null,
            "overflow_x": null,
            "overflow_y": null,
            "padding": null,
            "right": null,
            "top": null,
            "visibility": null,
            "width": null
          }
        },
        "8f7144a77aff4a5fb924eabf7ab79e22": {
          "model_module": "@jupyter-widgets/base",
          "model_module_version": "1.2.0",
          "model_name": "LayoutModel",
          "state": {
            "_model_module": "@jupyter-widgets/base",
            "_model_module_version": "1.2.0",
            "_model_name": "LayoutModel",
            "_view_count": null,
            "_view_module": "@jupyter-widgets/base",
            "_view_module_version": "1.2.0",
            "_view_name": "LayoutView",
            "align_content": null,
            "align_items": null,
            "align_self": null,
            "border": null,
            "bottom": null,
            "display": null,
            "flex": null,
            "flex_flow": null,
            "grid_area": null,
            "grid_auto_columns": null,
            "grid_auto_flow": null,
            "grid_auto_rows": null,
            "grid_column": null,
            "grid_gap": null,
            "grid_row": null,
            "grid_template_areas": null,
            "grid_template_columns": null,
            "grid_template_rows": null,
            "height": null,
            "justify_content": null,
            "justify_items": null,
            "left": null,
            "margin": null,
            "max_height": null,
            "max_width": null,
            "min_height": null,
            "min_width": null,
            "object_fit": null,
            "object_position": null,
            "order": null,
            "overflow": null,
            "overflow_x": null,
            "overflow_y": null,
            "padding": null,
            "right": null,
            "top": null,
            "visibility": null,
            "width": null
          }
        },
        "9cbc459bae814578ab1bcf29d9cf8618": {
          "model_module": "@jupyter-widgets/controls",
          "model_module_version": "1.5.0",
          "model_name": "FloatProgressModel",
          "state": {
            "_dom_classes": [],
            "_model_module": "@jupyter-widgets/controls",
            "_model_module_version": "1.5.0",
            "_model_name": "FloatProgressModel",
            "_view_count": null,
            "_view_module": "@jupyter-widgets/controls",
            "_view_module_version": "1.5.0",
            "_view_name": "ProgressView",
            "bar_style": "success",
            "description": "",
            "description_tooltip": null,
            "layout": "IPY_MODEL_ae7ae6dd559740de8c909cdc026b7eb8",
            "max": 7,
            "min": 0,
            "orientation": "horizontal",
            "style": "IPY_MODEL_03b05f11e7f14e18949555c1723b8aee",
            "value": 7
          }
        },
        "9e7f74b55ff14e0db1dcda0e007e8205": {
          "model_module": "@jupyter-widgets/controls",
          "model_module_version": "1.5.0",
          "model_name": "HBoxModel",
          "state": {
            "_dom_classes": [],
            "_model_module": "@jupyter-widgets/controls",
            "_model_module_version": "1.5.0",
            "_model_name": "HBoxModel",
            "_view_count": null,
            "_view_module": "@jupyter-widgets/controls",
            "_view_module_version": "1.5.0",
            "_view_name": "HBoxView",
            "box_style": "",
            "children": [
              "IPY_MODEL_056735f65e69474c9832e51b005dfcb1",
              "IPY_MODEL_c2b614e901ec43cfb7281e3b316f8406",
              "IPY_MODEL_0bd1f87526b640adbba389472b6084cd"
            ],
            "layout": "IPY_MODEL_5708c7ed5b01442dbae77baae29a5079"
          }
        },
        "ab3e978c3603476a958307af7c0d77fe": {
          "model_module": "@jupyter-widgets/controls",
          "model_module_version": "1.5.0",
          "model_name": "ProgressStyleModel",
          "state": {
            "_model_module": "@jupyter-widgets/controls",
            "_model_module_version": "1.5.0",
            "_model_name": "ProgressStyleModel",
            "_view_count": null,
            "_view_module": "@jupyter-widgets/base",
            "_view_module_version": "1.2.0",
            "_view_name": "StyleView",
            "bar_color": null,
            "description_width": ""
          }
        },
        "ae7ae6dd559740de8c909cdc026b7eb8": {
          "model_module": "@jupyter-widgets/base",
          "model_module_version": "1.2.0",
          "model_name": "LayoutModel",
          "state": {
            "_model_module": "@jupyter-widgets/base",
            "_model_module_version": "1.2.0",
            "_model_name": "LayoutModel",
            "_view_count": null,
            "_view_module": "@jupyter-widgets/base",
            "_view_module_version": "1.2.0",
            "_view_name": "LayoutView",
            "align_content": null,
            "align_items": null,
            "align_self": null,
            "border": null,
            "bottom": null,
            "display": null,
            "flex": null,
            "flex_flow": null,
            "grid_area": null,
            "grid_auto_columns": null,
            "grid_auto_flow": null,
            "grid_auto_rows": null,
            "grid_column": null,
            "grid_gap": null,
            "grid_row": null,
            "grid_template_areas": null,
            "grid_template_columns": null,
            "grid_template_rows": null,
            "height": null,
            "justify_content": null,
            "justify_items": null,
            "left": null,
            "margin": null,
            "max_height": null,
            "max_width": null,
            "min_height": null,
            "min_width": null,
            "object_fit": null,
            "object_position": null,
            "order": null,
            "overflow": null,
            "overflow_x": null,
            "overflow_y": null,
            "padding": null,
            "right": null,
            "top": null,
            "visibility": null,
            "width": null
          }
        },
        "b8c87cb26f924726bebf74fb1408c81e": {
          "model_module": "@jupyter-widgets/controls",
          "model_module_version": "1.5.0",
          "model_name": "HTMLModel",
          "state": {
            "_dom_classes": [],
            "_model_module": "@jupyter-widgets/controls",
            "_model_module_version": "1.5.0",
            "_model_name": "HTMLModel",
            "_view_count": null,
            "_view_module": "@jupyter-widgets/controls",
            "_view_module_version": "1.5.0",
            "_view_name": "HTMLView",
            "description": "",
            "description_tooltip": null,
            "layout": "IPY_MODEL_d9735d8c37a049aaab8fc488f5342546",
            "placeholder": "​",
            "style": "IPY_MODEL_e83fd54c64584af49efe81a7f82b9323",
            "value": "Loading pipeline components...: 100%"
          }
        },
        "c2b614e901ec43cfb7281e3b316f8406": {
          "model_module": "@jupyter-widgets/controls",
          "model_module_version": "1.5.0",
          "model_name": "FloatProgressModel",
          "state": {
            "_dom_classes": [],
            "_model_module": "@jupyter-widgets/controls",
            "_model_module_version": "1.5.0",
            "_model_name": "FloatProgressModel",
            "_view_count": null,
            "_view_module": "@jupyter-widgets/controls",
            "_view_module_version": "1.5.0",
            "_view_name": "ProgressView",
            "bar_style": "success",
            "description": "",
            "description_tooltip": null,
            "layout": "IPY_MODEL_65b175bebe974478aa330ee4bb4edf65",
            "max": 7,
            "min": 0,
            "orientation": "horizontal",
            "style": "IPY_MODEL_d4a15e096f1246e0805b8ba97aa3e569",
            "value": 7
          }
        },
        "c5cbac1dc7014533919ebb43918aadec": {
          "model_module": "@jupyter-widgets/base",
          "model_module_version": "1.2.0",
          "model_name": "LayoutModel",
          "state": {
            "_model_module": "@jupyter-widgets/base",
            "_model_module_version": "1.2.0",
            "_model_name": "LayoutModel",
            "_view_count": null,
            "_view_module": "@jupyter-widgets/base",
            "_view_module_version": "1.2.0",
            "_view_name": "LayoutView",
            "align_content": null,
            "align_items": null,
            "align_self": null,
            "border": null,
            "bottom": null,
            "display": null,
            "flex": null,
            "flex_flow": null,
            "grid_area": null,
            "grid_auto_columns": null,
            "grid_auto_flow": null,
            "grid_auto_rows": null,
            "grid_column": null,
            "grid_gap": null,
            "grid_row": null,
            "grid_template_areas": null,
            "grid_template_columns": null,
            "grid_template_rows": null,
            "height": null,
            "justify_content": null,
            "justify_items": null,
            "left": null,
            "margin": null,
            "max_height": null,
            "max_width": null,
            "min_height": null,
            "min_width": null,
            "object_fit": null,
            "object_position": null,
            "order": null,
            "overflow": null,
            "overflow_x": null,
            "overflow_y": null,
            "padding": null,
            "right": null,
            "top": null,
            "visibility": null,
            "width": null
          }
        },
        "cd0b278465d946929b15ed54e33d4eb3": {
          "model_module": "@jupyter-widgets/controls",
          "model_module_version": "1.5.0",
          "model_name": "DescriptionStyleModel",
          "state": {
            "_model_module": "@jupyter-widgets/controls",
            "_model_module_version": "1.5.0",
            "_model_name": "DescriptionStyleModel",
            "_view_count": null,
            "_view_module": "@jupyter-widgets/base",
            "_view_module_version": "1.2.0",
            "_view_name": "StyleView",
            "description_width": ""
          }
        },
        "cd55f5b6d01f41d9b0725785d32e95c1": {
          "model_module": "@jupyter-widgets/base",
          "model_module_version": "1.2.0",
          "model_name": "LayoutModel",
          "state": {
            "_model_module": "@jupyter-widgets/base",
            "_model_module_version": "1.2.0",
            "_model_name": "LayoutModel",
            "_view_count": null,
            "_view_module": "@jupyter-widgets/base",
            "_view_module_version": "1.2.0",
            "_view_name": "LayoutView",
            "align_content": null,
            "align_items": null,
            "align_self": null,
            "border": null,
            "bottom": null,
            "display": null,
            "flex": null,
            "flex_flow": null,
            "grid_area": null,
            "grid_auto_columns": null,
            "grid_auto_flow": null,
            "grid_auto_rows": null,
            "grid_column": null,
            "grid_gap": null,
            "grid_row": null,
            "grid_template_areas": null,
            "grid_template_columns": null,
            "grid_template_rows": null,
            "height": null,
            "justify_content": null,
            "justify_items": null,
            "left": null,
            "margin": null,
            "max_height": null,
            "max_width": null,
            "min_height": null,
            "min_width": null,
            "object_fit": null,
            "object_position": null,
            "order": null,
            "overflow": null,
            "overflow_x": null,
            "overflow_y": null,
            "padding": null,
            "right": null,
            "top": null,
            "visibility": null,
            "width": null
          }
        },
        "d35d4c90941043d0a6fedc6f9935e83c": {
          "model_module": "@jupyter-widgets/controls",
          "model_module_version": "1.5.0",
          "model_name": "HTMLModel",
          "state": {
            "_dom_classes": [],
            "_model_module": "@jupyter-widgets/controls",
            "_model_module_version": "1.5.0",
            "_model_name": "HTMLModel",
            "_view_count": null,
            "_view_module": "@jupyter-widgets/controls",
            "_view_module_version": "1.5.0",
            "_view_name": "HTMLView",
            "description": "",
            "description_tooltip": null,
            "layout": "IPY_MODEL_cd55f5b6d01f41d9b0725785d32e95c1",
            "placeholder": "​",
            "style": "IPY_MODEL_f728d9bea99d46c6a132be69b4c2b87f",
            "value": " 50/50 [00:07&lt;00:00,  6.75it/s]"
          }
        },
        "d4a15e096f1246e0805b8ba97aa3e569": {
          "model_module": "@jupyter-widgets/controls",
          "model_module_version": "1.5.0",
          "model_name": "ProgressStyleModel",
          "state": {
            "_model_module": "@jupyter-widgets/controls",
            "_model_module_version": "1.5.0",
            "_model_name": "ProgressStyleModel",
            "_view_count": null,
            "_view_module": "@jupyter-widgets/base",
            "_view_module_version": "1.2.0",
            "_view_name": "StyleView",
            "bar_color": null,
            "description_width": ""
          }
        },
        "d9735d8c37a049aaab8fc488f5342546": {
          "model_module": "@jupyter-widgets/base",
          "model_module_version": "1.2.0",
          "model_name": "LayoutModel",
          "state": {
            "_model_module": "@jupyter-widgets/base",
            "_model_module_version": "1.2.0",
            "_model_name": "LayoutModel",
            "_view_count": null,
            "_view_module": "@jupyter-widgets/base",
            "_view_module_version": "1.2.0",
            "_view_name": "LayoutView",
            "align_content": null,
            "align_items": null,
            "align_self": null,
            "border": null,
            "bottom": null,
            "display": null,
            "flex": null,
            "flex_flow": null,
            "grid_area": null,
            "grid_auto_columns": null,
            "grid_auto_flow": null,
            "grid_auto_rows": null,
            "grid_column": null,
            "grid_gap": null,
            "grid_row": null,
            "grid_template_areas": null,
            "grid_template_columns": null,
            "grid_template_rows": null,
            "height": null,
            "justify_content": null,
            "justify_items": null,
            "left": null,
            "margin": null,
            "max_height": null,
            "max_width": null,
            "min_height": null,
            "min_width": null,
            "object_fit": null,
            "object_position": null,
            "order": null,
            "overflow": null,
            "overflow_x": null,
            "overflow_y": null,
            "padding": null,
            "right": null,
            "top": null,
            "visibility": null,
            "width": null
          }
        },
        "d97b98b66be24da0b868d23271added5": {
          "model_module": "@jupyter-widgets/controls",
          "model_module_version": "1.5.0",
          "model_name": "FloatProgressModel",
          "state": {
            "_dom_classes": [],
            "_model_module": "@jupyter-widgets/controls",
            "_model_module_version": "1.5.0",
            "_model_name": "FloatProgressModel",
            "_view_count": null,
            "_view_module": "@jupyter-widgets/controls",
            "_view_module_version": "1.5.0",
            "_view_name": "ProgressView",
            "bar_style": "success",
            "description": "",
            "description_tooltip": null,
            "layout": "IPY_MODEL_c5cbac1dc7014533919ebb43918aadec",
            "max": 50,
            "min": 0,
            "orientation": "horizontal",
            "style": "IPY_MODEL_ab3e978c3603476a958307af7c0d77fe",
            "value": 50
          }
        },
        "dae5e403983a426fb9a31cedf70ae5d7": {
          "model_module": "@jupyter-widgets/controls",
          "model_module_version": "1.5.0",
          "model_name": "HTMLModel",
          "state": {
            "_dom_classes": [],
            "_model_module": "@jupyter-widgets/controls",
            "_model_module_version": "1.5.0",
            "_model_name": "HTMLModel",
            "_view_count": null,
            "_view_module": "@jupyter-widgets/controls",
            "_view_module_version": "1.5.0",
            "_view_name": "HTMLView",
            "description": "",
            "description_tooltip": null,
            "layout": "IPY_MODEL_8f7144a77aff4a5fb924eabf7ab79e22",
            "placeholder": "​",
            "style": "IPY_MODEL_f346aef2bc834b8299f9651bd27f049c",
            "value": " 7/7 [00:08&lt;00:00,  1.62s/it]"
          }
        },
        "e83fd54c64584af49efe81a7f82b9323": {
          "model_module": "@jupyter-widgets/controls",
          "model_module_version": "1.5.0",
          "model_name": "DescriptionStyleModel",
          "state": {
            "_model_module": "@jupyter-widgets/controls",
            "_model_module_version": "1.5.0",
            "_model_name": "DescriptionStyleModel",
            "_view_count": null,
            "_view_module": "@jupyter-widgets/base",
            "_view_module_version": "1.2.0",
            "_view_name": "StyleView",
            "description_width": ""
          }
        },
        "eef1e685dc824ea59da626be1a61afcc": {
          "model_module": "@jupyter-widgets/base",
          "model_module_version": "1.2.0",
          "model_name": "LayoutModel",
          "state": {
            "_model_module": "@jupyter-widgets/base",
            "_model_module_version": "1.2.0",
            "_model_name": "LayoutModel",
            "_view_count": null,
            "_view_module": "@jupyter-widgets/base",
            "_view_module_version": "1.2.0",
            "_view_name": "LayoutView",
            "align_content": null,
            "align_items": null,
            "align_self": null,
            "border": null,
            "bottom": null,
            "display": null,
            "flex": null,
            "flex_flow": null,
            "grid_area": null,
            "grid_auto_columns": null,
            "grid_auto_flow": null,
            "grid_auto_rows": null,
            "grid_column": null,
            "grid_gap": null,
            "grid_row": null,
            "grid_template_areas": null,
            "grid_template_columns": null,
            "grid_template_rows": null,
            "height": null,
            "justify_content": null,
            "justify_items": null,
            "left": null,
            "margin": null,
            "max_height": null,
            "max_width": null,
            "min_height": null,
            "min_width": null,
            "object_fit": null,
            "object_position": null,
            "order": null,
            "overflow": null,
            "overflow_x": null,
            "overflow_y": null,
            "padding": null,
            "right": null,
            "top": null,
            "visibility": null,
            "width": null
          }
        },
        "f346aef2bc834b8299f9651bd27f049c": {
          "model_module": "@jupyter-widgets/controls",
          "model_module_version": "1.5.0",
          "model_name": "DescriptionStyleModel",
          "state": {
            "_model_module": "@jupyter-widgets/controls",
            "_model_module_version": "1.5.0",
            "_model_name": "DescriptionStyleModel",
            "_view_count": null,
            "_view_module": "@jupyter-widgets/base",
            "_view_module_version": "1.2.0",
            "_view_name": "StyleView",
            "description_width": ""
          }
        },
        "f728d9bea99d46c6a132be69b4c2b87f": {
          "model_module": "@jupyter-widgets/controls",
          "model_module_version": "1.5.0",
          "model_name": "DescriptionStyleModel",
          "state": {
            "_model_module": "@jupyter-widgets/controls",
            "_model_module_version": "1.5.0",
            "_model_name": "DescriptionStyleModel",
            "_view_count": null,
            "_view_module": "@jupyter-widgets/base",
            "_view_module_version": "1.2.0",
            "_view_name": "StyleView",
            "description_width": ""
          }
        }
      }
    }
  },
  "nbformat": 4,
  "nbformat_minor": 0
}
