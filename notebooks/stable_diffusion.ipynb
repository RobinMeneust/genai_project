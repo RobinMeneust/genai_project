{
 "cells": [
  {
   "cell_type": "code",
   "execution_count": null,
   "metadata": {},
   "outputs": [
    {
     "name": "stderr",
     "output_type": "stream",
     "text": [
      "2025-04-04 11:56:19.817935: E external/local_xla/xla/stream_executor/cuda/cuda_fft.cc:477] Unable to register cuFFT factory: Attempting to register factory for plugin cuFFT when one has already been registered\n",
      "WARNING: All log messages before absl::InitializeLog() is called are written to STDERR\n",
      "E0000 00:00:1743760579.843326  753197 cuda_dnn.cc:8310] Unable to register cuDNN factory: Attempting to register factory for plugin cuDNN when one has already been registered\n",
      "E0000 00:00:1743760579.856175  753197 cuda_blas.cc:1418] Unable to register cuBLAS factory: Attempting to register factory for plugin cuBLAS when one has already been registered\n",
      "2025-04-04 11:56:19.887619: I tensorflow/core/platform/cpu_feature_guard.cc:210] This TensorFlow binary is optimized to use available CPU instructions in performance-critical operations.\n",
      "To enable the following instructions: AVX2 FMA, in other operations, rebuild TensorFlow with the appropriate compiler flags.\n"
     ]
    }
   ],
   "source": [
    "import torch\n",
    "from diffusers import StableDiffusionPipeline\n",
    "from tqdm import tqdm"
   ]
  },
  {
   "cell_type": "markdown",
   "metadata": {},
   "source": [
    "Load the Stable Diffusion model"
   ]
  },
  {
   "cell_type": "code",
   "execution_count": null,
   "metadata": {},
   "outputs": [],
   "source": [
    "# !pip install --upgrade diffusers transformers accelerate safetensors\n",
    "# !pip install huggingface_hub\n",
    "# from huggingface_hub import notebook_login\n",
    "# notebook_login()"
   ]
  },
  {
   "cell_type": "code",
   "execution_count": null,
   "metadata": {},
   "outputs": [],
   "source": [
    "# pipe = StableDiffusionPipeline.from_pretrained(\"CompVis/stable-diffusion-v1-4\", token=...)\n",
    "pipe = StableDiffusionPipeline.from_pretrained(\"CompVis/stable-diffusion-v1-4\")\n",
    "pipe = pipe.to(\"cuda\")"
   ]
  },
  {
   "cell_type": "markdown",
   "metadata": {},
   "source": [
    "Get text embeddings"
   ]
  },
  {
   "cell_type": "code",
   "execution_count": null,
   "metadata": {},
   "outputs": [],
   "source": [
    "max_length = 50\n",
    "\n",
    "tokenizer = pipe.tokenizer\n",
    "text_encoder = pipe.text_encoder\n",
    "vae = pipe.vae\n",
    "\n",
    "prompt = \"A futuristic car\""
   ]
  },
  {
   "cell_type": "code",
   "execution_count": null,
   "metadata": {},
   "outputs": [],
   "source": [
    "import torch\n",
    "import torch.nn as nn\n",
    "import torch.optim as optim\n",
    "\n",
    "diffusion_model = pipe.unet\n",
    "timesteps = 10\n",
    "alpha_t = 0.5\n",
    "criterion = nn.MSELoss()\n",
    "optimizer = optim.Adam(diffusion_model.parameters(), lr=1e-4)"
   ]
  },
  {
   "cell_type": "code",
   "execution_count": null,
   "metadata": {},
   "outputs": [],
   "source": [
    "from PIL import Image\n",
    "import matplotlib.pyplot as plt\n",
    "import numpy as np\n",
    "import torchvision.transforms as transforms\n",
    "\n",
    "image_path = \"car.jpg\"\n",
    "image = Image.open(image_path).convert(\"RGB\")\n",
    "image = image.resize((512, 512))\n",
    "\n",
    "plt.imshow(image)\n",
    "plt.axis(\"off\")\n",
    "plt.show()\n",
    "\n",
    "image = transforms.ToTensor()(image).unsqueeze(0)  # Add batch dimension\n",
    "image = image.to(diffusion_model.device)"
   ]
  },
  {
   "cell_type": "code",
   "execution_count": null,
   "metadata": {},
   "outputs": [],
   "source": [
    "def optimize_embeddings(input_image, target_text, num_steps=5):\n",
    "    tokens = tokenizer(target_text, padding=\"max_length\", truncation=True, max_length=max_length, return_tensors=\"pt\")\n",
    "\n",
    "    tokens = tokens.to(diffusion_model.device)\n",
    "\n",
    "    with torch.no_grad():\n",
    "        e_tgt = text_encoder(tokens[\"input_ids\"]).last_hidden_state\n",
    "\n",
    "    e_tgt = e_tgt.requires_grad_(True)\n",
    "\n",
    "    # freeze models parameters\n",
    "    text_encoder.eval()\n",
    "    diffusion_model.eval()\n",
    "    vae.eval()\n",
    "\n",
    "    with torch.no_grad():\n",
    "        latents = vae.encode(input_image).latent_dist.sample() # diffusion model doesn't directly take an RGB image as input\n",
    "\n",
    "    old_latents = latents.detach().clone()\n",
    "\n",
    "    for _ in tqdm(range(num_steps)):\n",
    "        noise = torch.randn_like(old_latents)\n",
    "        sqrt_alpha = np.sqrt(alpha_t)\n",
    "        latents = sqrt_alpha * old_latents + (1-sqrt_alpha) * noise\n",
    "\n",
    "        noise_pred = diffusion_model(latents, timestep=timesteps, encoder_hidden_states=e_tgt).sample\n",
    "\n",
    "        # update embeddings\n",
    "        optimizer.zero_grad()\n",
    "        loss = criterion(noise_pred, noise)\n",
    "        loss.backward()\n",
    "        optimizer.step()\n",
    "\n",
    "        old_latents = latents.detach().clone()\n",
    "\n",
    "    # get the final embedding after update\n",
    "    return e_tgt.detach()\n",
    "\n",
    "e_tgt = optimize_embeddings(image, prompt)\n",
    "print(e_tgt.shape)"
   ]
  },
  {
   "cell_type": "code",
   "execution_count": null,
   "metadata": {},
   "outputs": [],
   "source": []
  }
 ],
 "metadata": {
  "kernelspec": {
   "display_name": "base",
   "language": "python",
   "name": "python3"
  },
  "language_info": {
   "codemirror_mode": {
    "name": "ipython",
    "version": 3
   },
   "file_extension": ".py",
   "mimetype": "text/x-python",
   "name": "python",
   "nbconvert_exporter": "python",
   "pygments_lexer": "ipython3",
   "version": "3.12.2"
  }
 },
 "nbformat": 4,
 "nbformat_minor": 2
}
